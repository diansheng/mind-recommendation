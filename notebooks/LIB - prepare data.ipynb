{
 "cells": [
  {
   "cell_type": "code",
   "execution_count": 1,
   "metadata": {},
   "outputs": [],
   "source": [
    "import sys\n",
    "sys.path.insert(0, \"../scripts/\")"
   ]
  },
  {
   "cell_type": "code",
   "execution_count": 2,
   "metadata": {},
   "outputs": [],
   "source": [
    "from dataset import *"
   ]
  },
  {
   "cell_type": "code",
   "execution_count": 3,
   "metadata": {},
   "outputs": [
    {
     "name": "stdout",
     "output_type": "stream",
     "text": [
      "../data/MINDsmall_train/behaviors.tsv data shape: (156965, 5)\n"
     ]
    }
   ],
   "source": [
    "env = 'MINDsmall_train'\n",
    "train_df = load_behavior_data(f'../data/{env}/behaviors.tsv')\n",
    "train_df = behavior_to_user_item_pair_w_label(train_df)"
   ]
  },
  {
   "cell_type": "code",
   "execution_count": 4,
   "metadata": {},
   "outputs": [],
   "source": [
    "file_name = f'../data/{env}/news.tsv'\n",
    "df = pd.read_csv(file_name,sep='\\t',header=None)\n",
    "# cols = [IMPRESSION_ID, USER_ID, TIMESTAMP ,HISTORY, IMPRESSIONS]\n",
    "# df_behaviors.columns = cols\n",
    "# print(f'{file_name} data shape: {df_behaviors.shape}')"
   ]
  },
  {
   "cell_type": "code",
   "execution_count": 5,
   "metadata": {},
   "outputs": [
    {
     "data": {
      "text/plain": [
       "(51282, 8)"
      ]
     },
     "execution_count": 5,
     "metadata": {},
     "output_type": "execute_result"
    }
   ],
   "source": [
    "df.shape"
   ]
  },
  {
   "cell_type": "code",
   "execution_count": 6,
   "metadata": {},
   "outputs": [
    {
     "data": {
      "text/html": [
       "<div>\n",
       "<style scoped>\n",
       "    .dataframe tbody tr th:only-of-type {\n",
       "        vertical-align: middle;\n",
       "    }\n",
       "\n",
       "    .dataframe tbody tr th {\n",
       "        vertical-align: top;\n",
       "    }\n",
       "\n",
       "    .dataframe thead th {\n",
       "        text-align: right;\n",
       "    }\n",
       "</style>\n",
       "<table border=\"1\" class=\"dataframe\">\n",
       "  <thead>\n",
       "    <tr style=\"text-align: right;\">\n",
       "      <th></th>\n",
       "      <th>0</th>\n",
       "      <th>1</th>\n",
       "      <th>2</th>\n",
       "      <th>3</th>\n",
       "      <th>4</th>\n",
       "      <th>5</th>\n",
       "      <th>6</th>\n",
       "      <th>7</th>\n",
       "    </tr>\n",
       "  </thead>\n",
       "  <tbody>\n",
       "    <tr>\n",
       "      <th>9796</th>\n",
       "      <td>N62644</td>\n",
       "      <td>news</td>\n",
       "      <td>newsus</td>\n",
       "      <td>Clarksburg VA deaths: hospital oversights, lap...</td>\n",
       "      <td>A series of oversights at a VA medical center ...</td>\n",
       "      <td>https://assets.msn.com/labs/mind/AAIOdLS.html</td>\n",
       "      <td>[{\"Label\": \"Virginia\", \"Type\": \"G\", \"WikidataI...</td>\n",
       "      <td>[{\"Label\": \"Veterans Health Administration\", \"...</td>\n",
       "    </tr>\n",
       "    <tr>\n",
       "      <th>33470</th>\n",
       "      <td>N12607</td>\n",
       "      <td>autos</td>\n",
       "      <td>autosnews</td>\n",
       "      <td>Lane closures Friday night in Providence as Ro...</td>\n",
       "      <td>PROVIDENCE -- Lane closures are likely on Rout...</td>\n",
       "      <td>https://assets.msn.com/labs/mind/BBWLhrE.html</td>\n",
       "      <td>[{\"Label\": \"Providence, Rhode Island\", \"Type\":...</td>\n",
       "      <td>[{\"Label\": \"Rhode Island Department of Transpo...</td>\n",
       "    </tr>\n",
       "    <tr>\n",
       "      <th>12489</th>\n",
       "      <td>N56921</td>\n",
       "      <td>travel</td>\n",
       "      <td>travelarticle</td>\n",
       "      <td>Norfolk posted instructions for taking names o...</td>\n",
       "      <td>In the latest escalation in the battle over th...</td>\n",
       "      <td>https://assets.msn.com/labs/mind/AAIOwCo.html</td>\n",
       "      <td>[{\"Label\": \"Norfolk, Virginia\", \"Type\": \"G\", \"...</td>\n",
       "      <td>[{\"Label\": \"Norfolk, Virginia\", \"Type\": \"G\", \"...</td>\n",
       "    </tr>\n",
       "  </tbody>\n",
       "</table>\n",
       "</div>"
      ],
      "text/plain": [
       "            0       1              2  \\\n",
       "9796   N62644    news         newsus   \n",
       "33470  N12607   autos      autosnews   \n",
       "12489  N56921  travel  travelarticle   \n",
       "\n",
       "                                                       3  \\\n",
       "9796   Clarksburg VA deaths: hospital oversights, lap...   \n",
       "33470  Lane closures Friday night in Providence as Ro...   \n",
       "12489  Norfolk posted instructions for taking names o...   \n",
       "\n",
       "                                                       4  \\\n",
       "9796   A series of oversights at a VA medical center ...   \n",
       "33470  PROVIDENCE -- Lane closures are likely on Rout...   \n",
       "12489  In the latest escalation in the battle over th...   \n",
       "\n",
       "                                                   5  \\\n",
       "9796   https://assets.msn.com/labs/mind/AAIOdLS.html   \n",
       "33470  https://assets.msn.com/labs/mind/BBWLhrE.html   \n",
       "12489  https://assets.msn.com/labs/mind/AAIOwCo.html   \n",
       "\n",
       "                                                       6  \\\n",
       "9796   [{\"Label\": \"Virginia\", \"Type\": \"G\", \"WikidataI...   \n",
       "33470  [{\"Label\": \"Providence, Rhode Island\", \"Type\":...   \n",
       "12489  [{\"Label\": \"Norfolk, Virginia\", \"Type\": \"G\", \"...   \n",
       "\n",
       "                                                       7  \n",
       "9796   [{\"Label\": \"Veterans Health Administration\", \"...  \n",
       "33470  [{\"Label\": \"Rhode Island Department of Transpo...  \n",
       "12489  [{\"Label\": \"Norfolk, Virginia\", \"Type\": \"G\", \"...  "
      ]
     },
     "execution_count": 6,
     "metadata": {},
     "output_type": "execute_result"
    }
   ],
   "source": [
    "df.sample(3)"
   ]
  },
  {
   "cell_type": "code",
   "execution_count": null,
   "metadata": {},
   "outputs": [],
   "source": []
  },
  {
   "cell_type": "code",
   "execution_count": null,
   "metadata": {},
   "outputs": [],
   "source": [
    "News ID\tN37378\n",
    "Category\tsports\n",
    "SubCategory\tgolf\n",
    "Title\tPGA Tour winners\n",
    "Abstract\tA gallery of recent winners on the PGA Tour.\n",
    "URL\thttps://www.msn.com/en-us/sports/golf/pga-tour-winners/ss-AAjnQjj?ocid=chopendata\n",
    "Title Entities\t[{\"Label\": \"PGA Tour\", \"Type\": \"O\", \"WikidataId\": \"Q910409\", \"Confidence\": 1.0, \"OccurrenceOffsets\": [0], \"SurfaceForms\": [\"PGA Tour\"]}]\n",
    "Abstract Entites\t[{\"Label\": \"PGA Tour\", \"Type\": \"O\", \"WikidataId\": \"Q910409\", \"Confidence\": 1.0, \"OccurrenceOffsets\": [35], \"SurfaceForms\": [\"PGA Tour\"]}]"
   ]
  },
  {
   "cell_type": "code",
   "execution_count": 12,
   "metadata": {},
   "outputs": [
    {
     "name": "stdout",
     "output_type": "stream",
     "text": [
      "(5843444, 3)\n"
     ]
    },
    {
     "data": {
      "text/html": [
       "<div>\n",
       "<style scoped>\n",
       "    .dataframe tbody tr th:only-of-type {\n",
       "        vertical-align: middle;\n",
       "    }\n",
       "\n",
       "    .dataframe tbody tr th {\n",
       "        vertical-align: top;\n",
       "    }\n",
       "\n",
       "    .dataframe thead th {\n",
       "        text-align: right;\n",
       "    }\n",
       "</style>\n",
       "<table border=\"1\" class=\"dataframe\">\n",
       "  <thead>\n",
       "    <tr style=\"text-align: right;\">\n",
       "      <th></th>\n",
       "      <th>user_id</th>\n",
       "      <th>news_id</th>\n",
       "      <th>label</th>\n",
       "    </tr>\n",
       "  </thead>\n",
       "  <tbody>\n",
       "    <tr>\n",
       "      <th>5760</th>\n",
       "      <td>U26309</td>\n",
       "      <td>N6099</td>\n",
       "      <td>0</td>\n",
       "    </tr>\n",
       "    <tr>\n",
       "      <th>110906</th>\n",
       "      <td>U57655</td>\n",
       "      <td>N4633</td>\n",
       "      <td>0</td>\n",
       "    </tr>\n",
       "    <tr>\n",
       "      <th>35660</th>\n",
       "      <td>U25389</td>\n",
       "      <td>N11830</td>\n",
       "      <td>0</td>\n",
       "    </tr>\n",
       "  </tbody>\n",
       "</table>\n",
       "</div>"
      ],
      "text/plain": [
       "       user_id news_id  label\n",
       "5760    U26309   N6099      0\n",
       "110906  U57655   N4633      0\n",
       "35660   U25389  N11830      0"
      ]
     },
     "execution_count": 12,
     "metadata": {},
     "output_type": "execute_result"
    }
   ],
   "source": [
    "print(train_df.shape)\n",
    "train_df.sample(3)"
   ]
  },
  {
   "cell_type": "code",
   "execution_count": 14,
   "metadata": {
    "tags": []
   },
   "outputs": [],
   "source": [
    "env = 'MINDsmall_dev'\n",
    "test_df = load_behavior_data(f'../data/{env}/behaviors.tsv')\n",
    "test_df = behavior_to_user_item_pair_w_label(test_df)"
   ]
  },
  {
   "cell_type": "code",
   "execution_count": 17,
   "metadata": {},
   "outputs": [
    {
     "name": "stdout",
     "output_type": "stream",
     "text": [
      "(2740998, 3)\n"
     ]
    },
    {
     "data": {
      "text/html": [
       "<div>\n",
       "<style scoped>\n",
       "    .dataframe tbody tr th:only-of-type {\n",
       "        vertical-align: middle;\n",
       "    }\n",
       "\n",
       "    .dataframe tbody tr th {\n",
       "        vertical-align: top;\n",
       "    }\n",
       "\n",
       "    .dataframe thead th {\n",
       "        text-align: right;\n",
       "    }\n",
       "</style>\n",
       "<table border=\"1\" class=\"dataframe\">\n",
       "  <thead>\n",
       "    <tr style=\"text-align: right;\">\n",
       "      <th></th>\n",
       "      <th>user_id</th>\n",
       "      <th>news_id</th>\n",
       "      <th>label</th>\n",
       "    </tr>\n",
       "  </thead>\n",
       "  <tbody>\n",
       "    <tr>\n",
       "      <th>63285</th>\n",
       "      <td>U89041</td>\n",
       "      <td>N64954</td>\n",
       "      <td>0</td>\n",
       "    </tr>\n",
       "    <tr>\n",
       "      <th>18945</th>\n",
       "      <td>U13653</td>\n",
       "      <td>N55084</td>\n",
       "      <td>0</td>\n",
       "    </tr>\n",
       "    <tr>\n",
       "      <th>7815</th>\n",
       "      <td>U15212</td>\n",
       "      <td>N60939</td>\n",
       "      <td>0</td>\n",
       "    </tr>\n",
       "  </tbody>\n",
       "</table>\n",
       "</div>"
      ],
      "text/plain": [
       "      user_id news_id  label\n",
       "63285  U89041  N64954      0\n",
       "18945  U13653  N55084      0\n",
       "7815   U15212  N60939      0"
      ]
     },
     "execution_count": 17,
     "metadata": {},
     "output_type": "execute_result"
    }
   ],
   "source": [
    "print(test_df.shape)\n",
    "test_df.sample(3)"
   ]
  },
  {
   "cell_type": "markdown",
   "metadata": {},
   "source": [
    "Library for prepare data"
   ]
  },
  {
   "cell_type": "code",
   "execution_count": null,
   "metadata": {},
   "outputs": [],
   "source": []
  },
  {
   "cell_type": "code",
   "execution_count": null,
   "metadata": {},
   "outputs": [],
   "source": []
  },
  {
   "cell_type": "code",
   "execution_count": null,
   "metadata": {},
   "outputs": [],
   "source": []
  },
  {
   "cell_type": "code",
   "execution_count": null,
   "metadata": {},
   "outputs": [],
   "source": []
  },
  {
   "cell_type": "code",
   "execution_count": null,
   "metadata": {},
   "outputs": [],
   "source": []
  },
  {
   "cell_type": "code",
   "execution_count": null,
   "metadata": {},
   "outputs": [],
   "source": []
  },
  {
   "cell_type": "code",
   "execution_count": null,
   "metadata": {},
   "outputs": [],
   "source": []
  },
  {
   "cell_type": "code",
   "execution_count": null,
   "metadata": {},
   "outputs": [],
   "source": []
  },
  {
   "cell_type": "code",
   "execution_count": null,
   "metadata": {},
   "outputs": [],
   "source": []
  },
  {
   "cell_type": "code",
   "execution_count": null,
   "metadata": {},
   "outputs": [],
   "source": []
  },
  {
   "cell_type": "code",
   "execution_count": null,
   "metadata": {},
   "outputs": [],
   "source": []
  },
  {
   "cell_type": "code",
   "execution_count": null,
   "metadata": {},
   "outputs": [],
   "source": []
  },
  {
   "cell_type": "code",
   "execution_count": 1,
   "metadata": {},
   "outputs": [],
   "source": [
    "import pandas as pd"
   ]
  },
  {
   "cell_type": "code",
   "execution_count": 2,
   "metadata": {},
   "outputs": [],
   "source": [
    "USER_ID, NEWS_ID, IMPRESSION_ID, TIMESTAMP, HISTORY, IMPRESSIONS, LABEL = 'user_id', 'news_id', 'impression_id', 'timestamp', 'history', 'impressions', 'label'"
   ]
  },
  {
   "cell_type": "code",
   "execution_count": 8,
   "metadata": {},
   "outputs": [],
   "source": [
    "env = 'MINDsmall_train'"
   ]
  },
  {
   "cell_type": "code",
   "execution_count": 3,
   "metadata": {},
   "outputs": [],
   "source": [
    "env = 'MINDlarge_test'"
   ]
  },
  {
   "cell_type": "code",
   "execution_count": 4,
   "metadata": {},
   "outputs": [
    {
     "data": {
      "text/plain": [
       "(100, 5)"
      ]
     },
     "execution_count": 4,
     "metadata": {},
     "output_type": "execute_result"
    }
   ],
   "source": [
    "df_behaviors = pd.read_csv(f'../data/{env}/behaviors.tsv',sep='\\t',header=None,nrows=100)\n",
    "df_behaviors.shape"
   ]
  },
  {
   "cell_type": "code",
   "execution_count": 6,
   "metadata": {},
   "outputs": [
    {
     "data": {
      "text/html": [
       "<div>\n",
       "<style scoped>\n",
       "    .dataframe tbody tr th:only-of-type {\n",
       "        vertical-align: middle;\n",
       "    }\n",
       "\n",
       "    .dataframe tbody tr th {\n",
       "        vertical-align: top;\n",
       "    }\n",
       "\n",
       "    .dataframe thead th {\n",
       "        text-align: right;\n",
       "    }\n",
       "</style>\n",
       "<table border=\"1\" class=\"dataframe\">\n",
       "  <thead>\n",
       "    <tr style=\"text-align: right;\">\n",
       "      <th></th>\n",
       "      <th>0</th>\n",
       "      <th>1</th>\n",
       "      <th>2</th>\n",
       "      <th>3</th>\n",
       "      <th>4</th>\n",
       "    </tr>\n",
       "  </thead>\n",
       "  <tbody>\n",
       "    <tr>\n",
       "      <th>0</th>\n",
       "      <td>1</td>\n",
       "      <td>U64099</td>\n",
       "      <td>11/19/2019 11:37:45 AM</td>\n",
       "      <td>N121133 N104200 N43255 N55860 N128965 N38014 N...</td>\n",
       "      <td>N101071 N15647 N83400 N124838 N57092 N64623 N6...</td>\n",
       "    </tr>\n",
       "    <tr>\n",
       "      <th>1</th>\n",
       "      <td>2</td>\n",
       "      <td>U231077</td>\n",
       "      <td>11/19/2019 5:28:08 AM</td>\n",
       "      <td>N45124 N84730 N45128 N104312 N70022 N99111 N26...</td>\n",
       "      <td>N14657 N51253 N49521 N126571 N74286 N101071 N1...</td>\n",
       "    </tr>\n",
       "    <tr>\n",
       "      <th>2</th>\n",
       "      <td>3</td>\n",
       "      <td>U606012</td>\n",
       "      <td>11/19/2019 4:46:23 AM</td>\n",
       "      <td>N59893 N84662 N90686 N33265 N127225 N120859 N6...</td>\n",
       "      <td>N74286 N9250 N26898 N123737 N98301 N80580 N456...</td>\n",
       "    </tr>\n",
       "    <tr>\n",
       "      <th>3</th>\n",
       "      <td>4</td>\n",
       "      <td>U320649</td>\n",
       "      <td>11/21/2019 6:03:51 AM</td>\n",
       "      <td>N110863 N7889 N86335 N85056 N115743 N63372 N19...</td>\n",
       "      <td>N119559 N37657 N108085 N91287 N39136 N130190 N...</td>\n",
       "    </tr>\n",
       "    <tr>\n",
       "      <th>4</th>\n",
       "      <td>5</td>\n",
       "      <td>U357840</td>\n",
       "      <td>11/22/2019 10:36:19 AM</td>\n",
       "      <td>N98596 N85005 N15713 N67779 N47961 N55571 N666...</td>\n",
       "      <td>N60658 N43496 N65220 N9125 N63136 N83728 N3208...</td>\n",
       "    </tr>\n",
       "  </tbody>\n",
       "</table>\n",
       "</div>"
      ],
      "text/plain": [
       "   0        1                       2  \\\n",
       "0  1   U64099  11/19/2019 11:37:45 AM   \n",
       "1  2  U231077   11/19/2019 5:28:08 AM   \n",
       "2  3  U606012   11/19/2019 4:46:23 AM   \n",
       "3  4  U320649   11/21/2019 6:03:51 AM   \n",
       "4  5  U357840  11/22/2019 10:36:19 AM   \n",
       "\n",
       "                                                   3  \\\n",
       "0  N121133 N104200 N43255 N55860 N128965 N38014 N...   \n",
       "1  N45124 N84730 N45128 N104312 N70022 N99111 N26...   \n",
       "2  N59893 N84662 N90686 N33265 N127225 N120859 N6...   \n",
       "3  N110863 N7889 N86335 N85056 N115743 N63372 N19...   \n",
       "4  N98596 N85005 N15713 N67779 N47961 N55571 N666...   \n",
       "\n",
       "                                                   4  \n",
       "0  N101071 N15647 N83400 N124838 N57092 N64623 N6...  \n",
       "1  N14657 N51253 N49521 N126571 N74286 N101071 N1...  \n",
       "2  N74286 N9250 N26898 N123737 N98301 N80580 N456...  \n",
       "3  N119559 N37657 N108085 N91287 N39136 N130190 N...  \n",
       "4  N60658 N43496 N65220 N9125 N63136 N83728 N3208...  "
      ]
     },
     "execution_count": 6,
     "metadata": {},
     "output_type": "execute_result"
    }
   ],
   "source": [
    "df_behaviors.head(5)"
   ]
  },
  {
   "cell_type": "code",
   "execution_count": 9,
   "metadata": {},
   "outputs": [
    {
     "data": {
      "text/plain": [
       "array([5, 'U357840', '11/22/2019 10:36:19 AM',\n",
       "       'N98596 N85005 N15713 N67779 N47961 N55571 N66687 N50459 N16249 N92144 N69847 N34809 N16463 N20694 N89095 N85056 N454 N43585 N72571 N80686 N120745 N26206 N13073 N116367 N53550 N100233 N105296 N128960 N101718 N91985 N48862 N15899 N43826 N126290 N84642 N46994 N66959 N13510 N20943 N41491 N62236 N79909 N39905 N59220 N88809 N50720 N10079 N96713 N72976 N24446 N29362 N93319 N4077 N43085 N32903',\n",
       "       'N60658 N43496 N65220 N9125 N63136 N83728 N3208 N101425 N5097 N123346 N45098 N57749 N38507 N81701 N118692 N25568 N72227 N49758 N92450 N54934 N57294 N87027 N6001 N91314 N45995 N67769 N39032 N10249 N110323 N90155 N123042 N102182 N127115 N49044 N64892 N124853 N71059'],\n",
       "      dtype=object)"
      ]
     },
     "execution_count": 9,
     "metadata": {},
     "output_type": "execute_result"
    }
   ],
   "source": [
    "df_behaviors.iloc[4].values"
   ]
  },
  {
   "cell_type": "code",
   "execution_count": 9,
   "metadata": {},
   "outputs": [
    {
     "data": {
      "text/plain": [
       "(156965, 5)"
      ]
     },
     "execution_count": 9,
     "metadata": {},
     "output_type": "execute_result"
    }
   ],
   "source": [
    "df_behaviors = pd.read_csv(f'../data/{env}/behaviors.tsv',sep='\\t',header=None)\n",
    "df_behaviors.shape"
   ]
  },
  {
   "cell_type": "code",
   "execution_count": 5,
   "metadata": {},
   "outputs": [
    {
     "data": {
      "text/html": [
       "<div>\n",
       "<style scoped>\n",
       "    .dataframe tbody tr th:only-of-type {\n",
       "        vertical-align: middle;\n",
       "    }\n",
       "\n",
       "    .dataframe tbody tr th {\n",
       "        vertical-align: top;\n",
       "    }\n",
       "\n",
       "    .dataframe thead th {\n",
       "        text-align: right;\n",
       "    }\n",
       "</style>\n",
       "<table border=\"1\" class=\"dataframe\">\n",
       "  <thead>\n",
       "    <tr style=\"text-align: right;\">\n",
       "      <th></th>\n",
       "      <th>impression_id</th>\n",
       "      <th>user_id</th>\n",
       "      <th>timestamp</th>\n",
       "      <th>history</th>\n",
       "      <th>impressions</th>\n",
       "    </tr>\n",
       "  </thead>\n",
       "  <tbody>\n",
       "    <tr>\n",
       "      <th>0</th>\n",
       "      <td>1</td>\n",
       "      <td>U13740</td>\n",
       "      <td>11/11/2019 9:05:58 AM</td>\n",
       "      <td>N55189 N42782 N34694 N45794 N18445 N63302 N104...</td>\n",
       "      <td>N55689-1 N35729-0</td>\n",
       "    </tr>\n",
       "    <tr>\n",
       "      <th>1</th>\n",
       "      <td>2</td>\n",
       "      <td>U91836</td>\n",
       "      <td>11/12/2019 6:11:30 PM</td>\n",
       "      <td>N31739 N6072 N63045 N23979 N35656 N43353 N8129...</td>\n",
       "      <td>N20678-0 N39317-0 N58114-0 N20495-0 N42977-0 N...</td>\n",
       "    </tr>\n",
       "    <tr>\n",
       "      <th>2</th>\n",
       "      <td>3</td>\n",
       "      <td>U73700</td>\n",
       "      <td>11/14/2019 7:01:48 AM</td>\n",
       "      <td>N10732 N25792 N7563 N21087 N41087 N5445 N60384...</td>\n",
       "      <td>N50014-0 N23877-0 N35389-0 N49712-0 N16844-0 N...</td>\n",
       "    </tr>\n",
       "    <tr>\n",
       "      <th>3</th>\n",
       "      <td>4</td>\n",
       "      <td>U34670</td>\n",
       "      <td>11/11/2019 5:28:05 AM</td>\n",
       "      <td>N45729 N2203 N871 N53880 N41375 N43142 N33013 ...</td>\n",
       "      <td>N35729-0 N33632-0 N49685-1 N27581-0</td>\n",
       "    </tr>\n",
       "    <tr>\n",
       "      <th>4</th>\n",
       "      <td>5</td>\n",
       "      <td>U8125</td>\n",
       "      <td>11/12/2019 4:11:21 PM</td>\n",
       "      <td>N10078 N56514 N14904 N33740</td>\n",
       "      <td>N39985-0 N36050-0 N16096-0 N8400-1 N22407-0 N6...</td>\n",
       "    </tr>\n",
       "  </tbody>\n",
       "</table>\n",
       "</div>"
      ],
      "text/plain": [
       "   impression_id user_id              timestamp  \\\n",
       "0              1  U13740  11/11/2019 9:05:58 AM   \n",
       "1              2  U91836  11/12/2019 6:11:30 PM   \n",
       "2              3  U73700  11/14/2019 7:01:48 AM   \n",
       "3              4  U34670  11/11/2019 5:28:05 AM   \n",
       "4              5   U8125  11/12/2019 4:11:21 PM   \n",
       "\n",
       "                                             history  \\\n",
       "0  N55189 N42782 N34694 N45794 N18445 N63302 N104...   \n",
       "1  N31739 N6072 N63045 N23979 N35656 N43353 N8129...   \n",
       "2  N10732 N25792 N7563 N21087 N41087 N5445 N60384...   \n",
       "3  N45729 N2203 N871 N53880 N41375 N43142 N33013 ...   \n",
       "4                        N10078 N56514 N14904 N33740   \n",
       "\n",
       "                                         impressions  \n",
       "0                                  N55689-1 N35729-0  \n",
       "1  N20678-0 N39317-0 N58114-0 N20495-0 N42977-0 N...  \n",
       "2  N50014-0 N23877-0 N35389-0 N49712-0 N16844-0 N...  \n",
       "3                N35729-0 N33632-0 N49685-1 N27581-0  \n",
       "4  N39985-0 N36050-0 N16096-0 N8400-1 N22407-0 N6...  "
      ]
     },
     "execution_count": 5,
     "metadata": {},
     "output_type": "execute_result"
    }
   ],
   "source": [
    "cols = [IMPRESSION_ID, USER_ID, TIMESTAMP ,HISTORY, IMPRESSIONS]\n",
    "df_behaviors.columns = cols\n",
    "df_behaviors.head()"
   ]
  },
  {
   "cell_type": "markdown",
   "metadata": {},
   "source": [
    "Training data can be in multiple formats\n",
    "\n",
    "- user_id, item_id\n",
    "- user_id, item_id, impressions\n",
    "- user_id, history"
   ]
  },
  {
   "cell_type": "code",
   "execution_count": 7,
   "metadata": {},
   "outputs": [
    {
     "data": {
      "text/plain": [
       "50000"
      ]
     },
     "execution_count": 7,
     "metadata": {},
     "output_type": "execute_result"
    }
   ],
   "source": [
    "df_behaviors.user_id.nunique()"
   ]
  },
  {
   "cell_type": "markdown",
   "metadata": {},
   "source": [
    "#### user_id, item_id, impressions -> Training data"
   ]
  },
  {
   "cell_type": "code",
   "execution_count": 16,
   "metadata": {},
   "outputs": [],
   "source": [
    "from sklearn import preprocessing"
   ]
  },
  {
   "cell_type": "code",
   "execution_count": 17,
   "metadata": {},
   "outputs": [],
   "source": [
    "user_2_idx = preprocessing.LabelEncoder()\n",
    "news_2_idx = preprocessing.LabelEncoder()"
   ]
  },
  {
   "cell_type": "code",
   "execution_count": 8,
   "metadata": {},
   "outputs": [],
   "source": [
    "tdf = df_behaviors.copy()"
   ]
  },
  {
   "cell_type": "code",
   "execution_count": 13,
   "metadata": {},
   "outputs": [],
   "source": [
    "# %%timeit///\n",
    "df_behaviors['impressions2'] = df_behaviors[IMPRESSIONS].str.split(' ')\n",
    "df_behaviors = df_behaviors.explode('impressions2')"
   ]
  },
  {
   "cell_type": "code",
   "execution_count": 14,
   "metadata": {},
   "outputs": [
    {
     "data": {
      "text/html": [
       "<div>\n",
       "<style scoped>\n",
       "    .dataframe tbody tr th:only-of-type {\n",
       "        vertical-align: middle;\n",
       "    }\n",
       "\n",
       "    .dataframe tbody tr th {\n",
       "        vertical-align: top;\n",
       "    }\n",
       "\n",
       "    .dataframe thead th {\n",
       "        text-align: right;\n",
       "    }\n",
       "</style>\n",
       "<table border=\"1\" class=\"dataframe\">\n",
       "  <thead>\n",
       "    <tr style=\"text-align: right;\">\n",
       "      <th></th>\n",
       "      <th>impression_id</th>\n",
       "      <th>user_id</th>\n",
       "      <th>timestamp</th>\n",
       "      <th>history</th>\n",
       "      <th>impressions</th>\n",
       "      <th>impressions2</th>\n",
       "    </tr>\n",
       "  </thead>\n",
       "  <tbody>\n",
       "    <tr>\n",
       "      <th>34221</th>\n",
       "      <td>34222</td>\n",
       "      <td>U84517</td>\n",
       "      <td>11/11/2019 8:42:15 AM</td>\n",
       "      <td>N12824 N11282 N41777 N52677 N60844 N44559 N446...</td>\n",
       "      <td>N32087-0 N56227-0 N25437-0 N20729-0 N5890-0 N1...</td>\n",
       "      <td>N54868-0</td>\n",
       "    </tr>\n",
       "    <tr>\n",
       "      <th>145191</th>\n",
       "      <td>145192</td>\n",
       "      <td>U78340</td>\n",
       "      <td>11/10/2019 6:52:20 AM</td>\n",
       "      <td>N2955 N10818 N30662 N56521 N33835 N20840 N3383...</td>\n",
       "      <td>N26179-0 N17252-0 N59390-0 N22329-0 N23784-0 N...</td>\n",
       "      <td>N36837-0</td>\n",
       "    </tr>\n",
       "    <tr>\n",
       "      <th>97200</th>\n",
       "      <td>97201</td>\n",
       "      <td>U2759</td>\n",
       "      <td>11/12/2019 10:15:37 AM</td>\n",
       "      <td>N45794 N43955 N11523 N35710 N54522 N14552 N131...</td>\n",
       "      <td>N20486-0 N34977-0 N41354-0 N22215-0 N1468-0 N3...</td>\n",
       "      <td>N27441-0</td>\n",
       "    </tr>\n",
       "  </tbody>\n",
       "</table>\n",
       "</div>"
      ],
      "text/plain": [
       "        impression_id user_id               timestamp  \\\n",
       "34221           34222  U84517   11/11/2019 8:42:15 AM   \n",
       "145191         145192  U78340   11/10/2019 6:52:20 AM   \n",
       "97200           97201   U2759  11/12/2019 10:15:37 AM   \n",
       "\n",
       "                                                  history  \\\n",
       "34221   N12824 N11282 N41777 N52677 N60844 N44559 N446...   \n",
       "145191  N2955 N10818 N30662 N56521 N33835 N20840 N3383...   \n",
       "97200   N45794 N43955 N11523 N35710 N54522 N14552 N131...   \n",
       "\n",
       "                                              impressions impressions2  \n",
       "34221   N32087-0 N56227-0 N25437-0 N20729-0 N5890-0 N1...     N54868-0  \n",
       "145191  N26179-0 N17252-0 N59390-0 N22329-0 N23784-0 N...     N36837-0  \n",
       "97200   N20486-0 N34977-0 N41354-0 N22215-0 N1468-0 N3...     N27441-0  "
      ]
     },
     "execution_count": 14,
     "metadata": {},
     "output_type": "execute_result"
    }
   ],
   "source": [
    "df_behaviors.sample(3)"
   ]
  },
  {
   "cell_type": "code",
   "execution_count": 18,
   "metadata": {},
   "outputs": [],
   "source": [
    "df_behaviors['label'] = df_behaviors['impressions2'].apply(lambda x: int(x[-1]))\n",
    "df_behaviors['news_id'] = df_behaviors['impressions2'].apply(lambda x: x[:-2])"
   ]
  },
  {
   "cell_type": "code",
   "execution_count": 21,
   "metadata": {},
   "outputs": [
    {
     "data": {
      "text/html": [
       "<div>\n",
       "<style scoped>\n",
       "    .dataframe tbody tr th:only-of-type {\n",
       "        vertical-align: middle;\n",
       "    }\n",
       "\n",
       "    .dataframe tbody tr th {\n",
       "        vertical-align: top;\n",
       "    }\n",
       "\n",
       "    .dataframe thead th {\n",
       "        text-align: right;\n",
       "    }\n",
       "</style>\n",
       "<table border=\"1\" class=\"dataframe\">\n",
       "  <thead>\n",
       "    <tr style=\"text-align: right;\">\n",
       "      <th></th>\n",
       "      <th>user_id</th>\n",
       "      <th>news_id</th>\n",
       "      <th>label</th>\n",
       "    </tr>\n",
       "  </thead>\n",
       "  <tbody>\n",
       "    <tr>\n",
       "      <th>130396</th>\n",
       "      <td>U9813</td>\n",
       "      <td>N5370</td>\n",
       "      <td>0</td>\n",
       "    </tr>\n",
       "    <tr>\n",
       "      <th>69966</th>\n",
       "      <td>U6132</td>\n",
       "      <td>N61363</td>\n",
       "      <td>0</td>\n",
       "    </tr>\n",
       "    <tr>\n",
       "      <th>151849</th>\n",
       "      <td>U47139</td>\n",
       "      <td>N47851</td>\n",
       "      <td>0</td>\n",
       "    </tr>\n",
       "  </tbody>\n",
       "</table>\n",
       "</div>"
      ],
      "text/plain": [
       "       user_id news_id  label\n",
       "130396   U9813   N5370      0\n",
       "69966    U6132  N61363      0\n",
       "151849  U47139  N47851      0"
      ]
     },
     "execution_count": 21,
     "metadata": {},
     "output_type": "execute_result"
    }
   ],
   "source": [
    "tdf = df_behaviors[[USER_ID, NEWS_ID, LABEL]]\n",
    "tdf.sample(3)"
   ]
  },
  {
   "cell_type": "code",
   "execution_count": 22,
   "metadata": {},
   "outputs": [
    {
     "data": {
      "text/plain": [
       "20288"
      ]
     },
     "execution_count": 22,
     "metadata": {},
     "output_type": "execute_result"
    }
   ],
   "source": [
    "tdf[NEWS_ID].nunique()"
   ]
  },
  {
   "cell_type": "code",
   "execution_count": 26,
   "metadata": {},
   "outputs": [],
   "source": [
    "tdf.to_pickle('user_news_label.pkl')"
   ]
  },
  {
   "cell_type": "code",
   "execution_count": null,
   "metadata": {},
   "outputs": [],
   "source": [
    "le.fit([1, 2, 2, 6])\n",
    ">>> le.classes_\n",
    "array([1, 2, 6])\n",
    ">>> le.transform([1, 1, 2, 6])\n",
    "array([0, 0, 1, 2]...)\n",
    ">>> le.inverse_transform([0, 0, 1, 2])\n",
    "array([1, 1, 2, 6])"
   ]
  },
  {
   "cell_type": "code",
   "execution_count": 10,
   "metadata": {},
   "outputs": [],
   "source": [
    "\n",
    "from sklearn.metrics import roc_auc_score"
   ]
  },
  {
   "cell_type": "code",
   "execution_count": 15,
   "metadata": {},
   "outputs": [],
   "source": [
    "y = [0,0,1,1,1]\n",
    "y_hat = [0.3,0.4,0.5,0.6,0.7]"
   ]
  },
  {
   "cell_type": "code",
   "execution_count": 16,
   "metadata": {},
   "outputs": [
    {
     "data": {
      "text/plain": [
       "1.0"
      ]
     },
     "execution_count": 16,
     "metadata": {},
     "output_type": "execute_result"
    }
   ],
   "source": [
    "roc_auc_score(y,y_hat)"
   ]
  },
  {
   "cell_type": "code",
   "execution_count": null,
   "metadata": {},
   "outputs": [],
   "source": []
  }
 ],
 "metadata": {
  "kernelspec": {
   "display_name": "Python 3",
   "language": "python",
   "name": "python3"
  },
  "language_info": {
   "codemirror_mode": {
    "name": "ipython",
    "version": 3
   },
   "file_extension": ".py",
   "mimetype": "text/x-python",
   "name": "python",
   "nbconvert_exporter": "python",
   "pygments_lexer": "ipython3",
   "version": "3.6.9"
  }
 },
 "nbformat": 4,
 "nbformat_minor": 4
}
