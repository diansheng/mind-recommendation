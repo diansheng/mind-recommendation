{
 "cells": [
  {
   "cell_type": "code",
   "execution_count": 1,
   "metadata": {},
   "outputs": [],
   "source": [
    "import pandas as pd"
   ]
  },
  {
   "cell_type": "code",
   "execution_count": 4,
   "metadata": {},
   "outputs": [],
   "source": [
    "import sys\n",
    "sys.path.insert(0, \"../scripts/\")\n",
    "\n",
    "from dataset import *"
   ]
  },
  {
   "cell_type": "code",
   "execution_count": 2,
   "metadata": {},
   "outputs": [],
   "source": [
    "USER_ID, NEWS_ID, IMPRESSION_ID, TIMESTAMP, HISTORY, IMPRESSIONS = 'user_id', 'news_id', 'impression_id', 'timestamp', 'history', 'impressions'"
   ]
  },
  {
   "cell_type": "code",
   "execution_count": 19,
   "metadata": {},
   "outputs": [
    {
     "data": {
      "text/plain": [
       "(5843444, 3)"
      ]
     },
     "execution_count": 19,
     "metadata": {},
     "output_type": "execute_result"
    }
   ],
   "source": [
    "env = 'MINDsmall_train'\n",
    "train_df_raw = load_behavior_data(f'../data/{env}/behaviors.tsv')\n",
    "train_df = behavior_to_user_item_pair_w_label(train_df_raw)\n",
    "train_df.shape"
   ]
  },
  {
   "cell_type": "code",
   "execution_count": 20,
   "metadata": {},
   "outputs": [
    {
     "data": {
      "text/plain": [
       "(2740998, 3)"
      ]
     },
     "execution_count": 20,
     "metadata": {},
     "output_type": "execute_result"
    }
   ],
   "source": [
    "env = 'MINDsmall_dev'\n",
    "test_df_raw = load_behavior_data(f'../data/{env}/behaviors.tsv')\n",
    "test_df = behavior_to_user_item_pair_w_label(test_df_raw)\n",
    "test_df.shape"
   ]
  },
  {
   "cell_type": "markdown",
   "metadata": {},
   "source": [
    "#### Ratio of shared users and news\n",
    "\n",
    "If the ratio of shared users and news is low, it means embedding built purely on relationship won't work."
   ]
  },
  {
   "cell_type": "code",
   "execution_count": 15,
   "metadata": {},
   "outputs": [
    {
     "name": "stdout",
     "output_type": "stream",
     "text": [
      "number of users in common between train and validation:5943\n",
      "number of users in total among train and validation:94057\n",
      "shared users percentage 6.32%\n"
     ]
    }
   ],
   "source": [
    "user_set_train = set(train_df[USER_ID].unique().tolist())\n",
    "user_set_test = set(test_df[USER_ID].unique().tolist())\n",
    "size_inter = len(user_set_train.intersection(user_set_test))\n",
    "size_union = len(user_set_train.union(user_set_test))\n",
    "\n",
    "print(f'number of users in common between train and validation:{size_inter}')\n",
    "print(f'number of users in total among train and validation:{size_union}')\n",
    "print(f'shared users percentage {size_inter/size_union*100:.2f}%')"
   ]
  },
  {
   "cell_type": "code",
   "execution_count": 16,
   "metadata": {},
   "outputs": [
    {
     "name": "stdout",
     "output_type": "stream",
     "text": [
      "number of news in common between train and validation:2886\n",
      "number of news in total among train and validation:22771\n",
      "shared news percentage 12.67%\n"
     ]
    }
   ],
   "source": [
    "news_set_train = set(train_df[NEWS_ID].unique().tolist())\n",
    "news_set_test = set(test_df[NEWS_ID].unique().tolist())\n",
    "size_inter = len(news_set_train.intersection(news_set_test))\n",
    "size_union = len(news_set_train.union(news_set_test))\n",
    "\n",
    "print(f'number of news in common between train and validation:{size_inter}')\n",
    "print(f'number of news in total among train and validation:{size_union}')\n",
    "print(f'shared news percentage {size_inter/size_union*100:.2f}%')"
   ]
  },
  {
   "cell_type": "markdown",
   "metadata": {},
   "source": [
    "The ratio is indeed pretty low. So it is very likely that models purely on relationship won't work.\n",
    "\n",
    "As a proof, I did a simple MF. While AUC is around 0.7 on the training data, the AUC on test data is 0.5, which means nothing is really learnt from the model."
   ]
  },
  {
   "cell_type": "markdown",
   "metadata": {},
   "source": [
    "#### Number of click per impression"
   ]
  },
  {
   "cell_type": "code",
   "execution_count": 22,
   "metadata": {},
   "outputs": [
    {
     "data": {
      "text/plain": [
       "0         1\n",
       "1         1\n",
       "2         1\n",
       "3         1\n",
       "4         1\n",
       "         ..\n",
       "156960    1\n",
       "156961    1\n",
       "156962    1\n",
       "156963    5\n",
       "156964    1\n",
       "Name: impressions, Length: 156965, dtype: int64"
      ]
     },
     "execution_count": 22,
     "metadata": {},
     "output_type": "execute_result"
    }
   ],
   "source": [
    "def count_click(impressions):\n",
    "    return sum([int(x[-1]) for x in impressions.split(' ')])\n",
    "\n",
    "train_df_raw[IMPRESSIONS].apply(count_click)"
   ]
  },
  {
   "cell_type": "code",
   "execution_count": 23,
   "metadata": {},
   "outputs": [
    {
     "data": {
      "text/plain": [
       "1     113888\n",
       "2      25571\n",
       "3       9263\n",
       "4       3975\n",
       "5       1957\n",
       "6        942\n",
       "7        515\n",
       "8        296\n",
       "9        198\n",
       "10       117\n",
       "11        81\n",
       "12        46\n",
       "13        38\n",
       "14        22\n",
       "15        17\n",
       "16        10\n",
       "18         9\n",
       "17         6\n",
       "19         2\n",
       "21         2\n",
       "26         2\n",
       "31         1\n",
       "20         1\n",
       "22         1\n",
       "23         1\n",
       "24         1\n",
       "25         1\n",
       "27         1\n",
       "35         1\n",
       "Name: impressions, dtype: int64"
      ]
     },
     "execution_count": 23,
     "metadata": {},
     "output_type": "execute_result"
    }
   ],
   "source": [
    "train_df_raw[IMPRESSIONS].apply(count_click).value_counts()"
   ]
  },
  {
   "cell_type": "code",
   "execution_count": 24,
   "metadata": {},
   "outputs": [
    {
     "data": {
      "text/plain": [
       "1     52067\n",
       "2     12707\n",
       "3      4443\n",
       "4      1911\n",
       "5       932\n",
       "6       426\n",
       "7       268\n",
       "8       166\n",
       "9        83\n",
       "10       61\n",
       "11       34\n",
       "12       17\n",
       "13       11\n",
       "16        6\n",
       "14        5\n",
       "15        5\n",
       "17        3\n",
       "18        2\n",
       "19        2\n",
       "21        1\n",
       "20        1\n",
       "24        1\n",
       "Name: impressions, dtype: int64"
      ]
     },
     "execution_count": 24,
     "metadata": {},
     "output_type": "execute_result"
    }
   ],
   "source": [
    "test_df_raw[IMPRESSIONS].apply(count_click).value_counts()"
   ]
  },
  {
   "cell_type": "code",
   "execution_count": null,
   "metadata": {},
   "outputs": [],
   "source": []
  }
 ],
 "metadata": {
  "kernelspec": {
   "display_name": "Python 3",
   "language": "python",
   "name": "python3"
  },
  "language_info": {
   "codemirror_mode": {
    "name": "ipython",
    "version": 3
   },
   "file_extension": ".py",
   "mimetype": "text/x-python",
   "name": "python",
   "nbconvert_exporter": "python",
   "pygments_lexer": "ipython3",
   "version": "3.6.9"
  }
 },
 "nbformat": 4,
 "nbformat_minor": 4
}
