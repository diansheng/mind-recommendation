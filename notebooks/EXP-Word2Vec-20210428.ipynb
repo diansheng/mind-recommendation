{
 "cells": [
  {
   "cell_type": "code",
   "execution_count": 3,
   "metadata": {},
   "outputs": [],
   "source": [
    "import sys\n",
    "sys.path.insert(0, \"../scripts/\")\n",
    "\n",
    "from dataset import *\n",
    "from evaluate import *"
   ]
  },
  {
   "cell_type": "code",
   "execution_count": 4,
   "metadata": {
    "ExecuteTime": {
     "end_time": "2020-08-29T02:00:43.891802Z",
     "start_time": "2020-08-29T02:00:43.887237Z"
    }
   },
   "outputs": [],
   "source": [
    "import pandas as pd\n",
    "from pathlib import Path\n",
    "import sys\n",
    "import numpy as np\n",
    "\n",
    "from sklearn import metrics\n",
    "\n",
    "from tqdm import tqdm\n",
    "tqdm.pandas()\n",
    "\n",
    "import torch\n",
    "import torch.nn as nn\n",
    "import torch.nn.functional as F\n",
    "import torch.optim as optim"
   ]
  },
  {
   "cell_type": "code",
   "execution_count": 5,
   "metadata": {
    "ExecuteTime": {
     "end_time": "2020-08-29T02:00:43.891802Z",
     "start_time": "2020-08-29T02:00:43.887237Z"
    }
   },
   "outputs": [],
   "source": [
    "PATH_DATA = Path.home()/Path('code/microsoft-recommendation-contest/data/')\n",
    "sys.path.append(str(PATH_DATA))"
   ]
  },
  {
   "cell_type": "markdown",
   "metadata": {},
   "source": [
    "## Content\n",
    "\n",
    "A few main modules.\n",
    "\n",
    "- Load data\n",
    "- Construct label dataset, containing two parts per sample\n",
    "    - input: [],[] list of user historical news, list of news in impression\n",
    "    - ouput: [] list of labels indicating which news are clicked (0/1) in the impression\n",
    "- Model\n",
    "    - Train (in word2vec approach, no need)\n",
    "        - input: dataset\n",
    "        - ouput: trained model, evaluation per epoch(optional), tensorboard data(optional)\n",
    "    - Evaluate\n",
    "        - input: dataset\n",
    "        - ouput: all 4 scores\n",
    "    - Inference\n",
    "        - input: dataset\n",
    "        - ouput: ranked recommendation result as of required format"
   ]
  },
  {
   "cell_type": "markdown",
   "metadata": {},
   "source": [
    "## Load data"
   ]
  },
  {
   "cell_type": "code",
   "execution_count": 6,
   "metadata": {},
   "outputs": [
    {
     "name": "stdout",
     "output_type": "stream",
     "text": [
      "../data/MINDsmall_train/behaviors.tsv, data shape: (156965, 5)\n",
      "../data/MINDsmall_train/news.tsv, data shape: (51282, 8)\n",
      "../data/MINDsmall_dev/behaviors.tsv, data shape: (73152, 5)\n",
      "../data/MINDsmall_dev/news.tsv, data shape: (42416, 8)\n"
     ]
    }
   ],
   "source": [
    "behaviors_train, news_train = load_data('MINDsmall_train')\n",
    "behaviors_val, news_val = load_data('MINDsmall_dev')"
   ]
  },
  {
   "cell_type": "code",
   "execution_count": 7,
   "metadata": {
    "ExecuteTime": {
     "end_time": "2020-08-29T02:26:46.059073Z",
     "start_time": "2020-08-29T02:26:46.030733Z"
    }
   },
   "outputs": [],
   "source": [
    "# sel columns \n",
    "news_col_sel = ['news_id','title','abstract']\n",
    "behaviors_col_sel = ['impression_id','user_id','history','impressions']\n",
    "\n",
    "news_train = news_train[news_col_sel]\n",
    "news_val = news_val[news_col_sel]\n",
    "behaviors_train = behaviors_train[behaviors_col_sel]\n",
    "behaviors_val = behaviors_val[behaviors_col_sel]"
   ]
  },
  {
   "cell_type": "code",
   "execution_count": 8,
   "metadata": {
    "ExecuteTime": {
     "end_time": "2020-08-29T02:26:51.586035Z",
     "start_time": "2020-08-29T02:26:51.567475Z"
    }
   },
   "outputs": [
    {
     "data": {
      "text/html": [
       "<div>\n",
       "<style scoped>\n",
       "    .dataframe tbody tr th:only-of-type {\n",
       "        vertical-align: middle;\n",
       "    }\n",
       "\n",
       "    .dataframe tbody tr th {\n",
       "        vertical-align: top;\n",
       "    }\n",
       "\n",
       "    .dataframe thead th {\n",
       "        text-align: right;\n",
       "    }\n",
       "</style>\n",
       "<table border=\"1\" class=\"dataframe\">\n",
       "  <thead>\n",
       "    <tr style=\"text-align: right;\">\n",
       "      <th></th>\n",
       "      <th>impression_id</th>\n",
       "      <th>user_id</th>\n",
       "      <th>history</th>\n",
       "      <th>impressions</th>\n",
       "    </tr>\n",
       "  </thead>\n",
       "  <tbody>\n",
       "    <tr>\n",
       "      <th>66627</th>\n",
       "      <td>66628</td>\n",
       "      <td>U37993</td>\n",
       "      <td>N39235 N55951 N9226 N52536 N26176 N30698 N619 ...</td>\n",
       "      <td>N41020-0 N20069-0 N7319-0 N31947-0 N49180-0 N1...</td>\n",
       "    </tr>\n",
       "  </tbody>\n",
       "</table>\n",
       "</div>"
      ],
      "text/plain": [
       "       impression_id user_id  \\\n",
       "66627          66628  U37993   \n",
       "\n",
       "                                                 history  \\\n",
       "66627  N39235 N55951 N9226 N52536 N26176 N30698 N619 ...   \n",
       "\n",
       "                                             impressions  \n",
       "66627  N41020-0 N20069-0 N7319-0 N31947-0 N49180-0 N1...  "
      ]
     },
     "execution_count": 8,
     "metadata": {},
     "output_type": "execute_result"
    }
   ],
   "source": [
    "behaviors_train.sample(1)"
   ]
  },
  {
   "cell_type": "code",
   "execution_count": 9,
   "metadata": {
    "ExecuteTime": {
     "end_time": "2020-08-29T02:33:03.206423Z",
     "start_time": "2020-08-29T02:33:03.192328Z"
    }
   },
   "outputs": [
    {
     "data": {
      "text/html": [
       "<div>\n",
       "<style scoped>\n",
       "    .dataframe tbody tr th:only-of-type {\n",
       "        vertical-align: middle;\n",
       "    }\n",
       "\n",
       "    .dataframe tbody tr th {\n",
       "        vertical-align: top;\n",
       "    }\n",
       "\n",
       "    .dataframe thead th {\n",
       "        text-align: right;\n",
       "    }\n",
       "</style>\n",
       "<table border=\"1\" class=\"dataframe\">\n",
       "  <thead>\n",
       "    <tr style=\"text-align: right;\">\n",
       "      <th></th>\n",
       "      <th>news_id</th>\n",
       "      <th>title</th>\n",
       "      <th>abstract</th>\n",
       "    </tr>\n",
       "  </thead>\n",
       "  <tbody>\n",
       "    <tr>\n",
       "      <th>10256</th>\n",
       "      <td>N19101</td>\n",
       "      <td>Couple who met on Tinder get engaged using a r...</td>\n",
       "      <td>James Lawrence, 24, and Hayley Orchard, 26, fr...</td>\n",
       "    </tr>\n",
       "  </tbody>\n",
       "</table>\n",
       "</div>"
      ],
      "text/plain": [
       "      news_id                                              title  \\\n",
       "10256  N19101  Couple who met on Tinder get engaged using a r...   \n",
       "\n",
       "                                                abstract  \n",
       "10256  James Lawrence, 24, and Hayley Orchard, 26, fr...  "
      ]
     },
     "execution_count": 9,
     "metadata": {},
     "output_type": "execute_result"
    }
   ],
   "source": [
    "news_train.sample(1)"
   ]
  },
  {
   "cell_type": "markdown",
   "metadata": {},
   "source": [
    "## Generate News Embedding\n",
    "\n",
    "Embedding can be created in various ways.\n",
    "1. pooling of word embedding <- use this one in this notebook\n",
    "2. news title+abstract embedding based on language model\n",
    "3. end-to-end trained from network\n",
    "4. from graph relation\n",
    "5. entity embedding provided\n",
    "6. mixed"
   ]
  },
  {
   "cell_type": "code",
   "execution_count": 10,
   "metadata": {},
   "outputs": [],
   "source": [
    "glove_embedding_file = '../data/glove.6B/glove.6B.50d.txt'"
   ]
  },
  {
   "cell_type": "code",
   "execution_count": 11,
   "metadata": {},
   "outputs": [],
   "source": [
    "embedding, word_ind  = load_w2v_from_file(glove_embedding_file, dim_size=None)"
   ]
  },
  {
   "cell_type": "code",
   "execution_count": 12,
   "metadata": {},
   "outputs": [
    {
     "data": {
      "text/html": [
       "<div>\n",
       "<style scoped>\n",
       "    .dataframe tbody tr th:only-of-type {\n",
       "        vertical-align: middle;\n",
       "    }\n",
       "\n",
       "    .dataframe tbody tr th {\n",
       "        vertical-align: top;\n",
       "    }\n",
       "\n",
       "    .dataframe thead th {\n",
       "        text-align: right;\n",
       "    }\n",
       "</style>\n",
       "<table border=\"1\" class=\"dataframe\">\n",
       "  <thead>\n",
       "    <tr style=\"text-align: right;\">\n",
       "      <th></th>\n",
       "      <th>news_id</th>\n",
       "      <th>title</th>\n",
       "      <th>abstract</th>\n",
       "    </tr>\n",
       "  </thead>\n",
       "  <tbody>\n",
       "    <tr>\n",
       "      <th>0</th>\n",
       "      <td>N55528</td>\n",
       "      <td>The Brands Queen Elizabeth, Prince Charles, an...</td>\n",
       "      <td>Shop the notebooks, jackets, and more that the...</td>\n",
       "    </tr>\n",
       "    <tr>\n",
       "      <th>1</th>\n",
       "      <td>N19639</td>\n",
       "      <td>50 Worst Habits For Belly Fat</td>\n",
       "      <td>These seemingly harmless habits are holding yo...</td>\n",
       "    </tr>\n",
       "    <tr>\n",
       "      <th>2</th>\n",
       "      <td>N61837</td>\n",
       "      <td>The Cost of Trump's Aid Freeze in the Trenches...</td>\n",
       "      <td>Lt. Ivan Molchanets peeked over a parapet of s...</td>\n",
       "    </tr>\n",
       "  </tbody>\n",
       "</table>\n",
       "</div>"
      ],
      "text/plain": [
       "  news_id                                              title  \\\n",
       "0  N55528  The Brands Queen Elizabeth, Prince Charles, an...   \n",
       "1  N19639                      50 Worst Habits For Belly Fat   \n",
       "2  N61837  The Cost of Trump's Aid Freeze in the Trenches...   \n",
       "\n",
       "                                            abstract  \n",
       "0  Shop the notebooks, jackets, and more that the...  \n",
       "1  These seemingly harmless habits are holding yo...  \n",
       "2  Lt. Ivan Molchanets peeked over a parapet of s...  "
      ]
     },
     "execution_count": 12,
     "metadata": {},
     "output_type": "execute_result"
    }
   ],
   "source": [
    "news_train.head(3)"
   ]
  },
  {
   "cell_type": "code",
   "execution_count": 13,
   "metadata": {},
   "outputs": [],
   "source": [
    "def news_emb_gen_from_df(news_df, embedding, word_ind):\n",
    "    \"\"\"\n",
    "    create news embedding from a dataframe\n",
    "    return a dictionary whose key is news id and value is a vector\n",
    "    \"\"\"\n",
    "    result = {}\n",
    "      \n",
    "    for _,row in news_df.iterrows():\n",
    "        \n",
    "        vec = np.array([embedding[word_ind.get(x,0)] for x in row[TITLE].split()])\n",
    "        result[row[NEWS_ID]]=np.mean(vec, axis=0)\n",
    "    \n",
    "    return result\n",
    "\n",
    "# function test\n",
    "# process_emb_df(df_emb, dim_size=None)"
   ]
  },
  {
   "cell_type": "code",
   "execution_count": 14,
   "metadata": {},
   "outputs": [
    {
     "name": "stdout",
     "output_type": "stream",
     "text": [
      "CPU times: user 2 µs, sys: 0 ns, total: 2 µs\n",
      "Wall time: 4.29 µs\n"
     ]
    }
   ],
   "source": [
    "%time\n",
    "news_2_vec = news_emb_gen_from_df(pd.concat([news_train, news_val]), embedding, word_ind)"
   ]
  },
  {
   "cell_type": "code",
   "execution_count": 35,
   "metadata": {},
   "outputs": [],
   "source": [
    "def build_news_embedding(news_2_vec):\n",
    "    emb = []\n",
    "    news_2_index = dict() # index starts from 1, reserve 0 for padding\n",
    "    \n",
    "    for i, news_id in enumerate(news_2_vec):\n",
    "        news_2_index[news_id] = i+1\n",
    "        emb.append(torch.tensor(news_2_vec[news_id]))\n",
    "    \n",
    "    emb.insert(0, torch.randn(len(emb[0])))  # insert a randomized embedding for padding\n",
    "    weight = torch.stack(emb)\n",
    "#     embedding = nn.Embedding.from_pretrained(weight, freeze=True)\n",
    "    \n",
    "    return weight, news_2_index"
   ]
  },
  {
   "cell_type": "code",
   "execution_count": 43,
   "metadata": {},
   "outputs": [],
   "source": [
    "news_embedding, news_2_index = build_news_embedding(news_2_vec)"
   ]
  },
  {
   "cell_type": "code",
   "execution_count": 41,
   "metadata": {},
   "outputs": [
    {
     "data": {
      "text/plain": [
       "65238"
      ]
     },
     "execution_count": 41,
     "metadata": {},
     "output_type": "execute_result"
    }
   ],
   "source": [
    "len(news_2_index)"
   ]
  },
  {
   "cell_type": "code",
   "execution_count": 15,
   "metadata": {},
   "outputs": [
    {
     "data": {
      "text/plain": [
       "65238"
      ]
     },
     "execution_count": 15,
     "metadata": {},
     "output_type": "execute_result"
    }
   ],
   "source": [
    "len(news_2_vec)"
   ]
  },
  {
   "cell_type": "markdown",
   "metadata": {},
   "source": [
    "## Construct Dataset\n",
    "\n",
    "- Construct label dataset, containing two parts per sample\n",
    "    - input: [],[] list of user historical news, list of news in impression\n",
    "    - ouput: [] list of labels indicating which news are clicked (0/1) in the impression"
   ]
  },
  {
   "cell_type": "markdown",
   "metadata": {},
   "source": [
    "Build Dataset and DataLoader"
   ]
  },
  {
   "cell_type": "code",
   "execution_count": 26,
   "metadata": {
    "jupyter": {
     "source_hidden": true
    }
   },
   "outputs": [],
   "source": [
    "class BehaviorDataset(torch.utils.data.Dataset):\n",
    "    'Characterizes a dataset for PyTorch'\n",
    "    def __init__(self, behavior_df, mode = 'train'):\n",
    "        \"\"\"\n",
    "        Initialization\n",
    "        mode: train, eval, inference\n",
    "        \"\"\"\n",
    "        self.df = behavior_df\n",
    "        self.mode = mode\n",
    "\n",
    "    def __len__(self):\n",
    "        'Denotes the total number of samples'\n",
    "        return self.df.shape[0]\n",
    "\n",
    "    def __getitem__(self, index):\n",
    "        'Generates one sample of data'\n",
    "        # Select sample\n",
    "        r = self.df.iloc[index]\n",
    "\n",
    "        # Load data and get label\n",
    "        history = r['history'].split()\n",
    "        if self.mode in ('train','eval'):\n",
    "            impressions = [x.split('-')[0] for x in r['impressions'].split(' ')]\n",
    "            labels = [int(x[-1]) for x in r['impressions'].split(' ')]\n",
    "        else:\n",
    "            impressions = [x for x in r['impressions'].split(' ')]\n",
    "            labels = None\n",
    "\n",
    "        return (history,impressions,labels)"
   ]
  },
  {
   "cell_type": "code",
   "execution_count": 27,
   "metadata": {},
   "outputs": [],
   "source": [
    "train_ds = BehaviorDataset(behaviors_train)"
   ]
  },
  {
   "cell_type": "code",
   "execution_count": 47,
   "metadata": {},
   "outputs": [],
   "source": [
    "def collate_batch(batch):\n",
    "    # because there is no paddng, so only support batch size =1 \n",
    "    history_list, impressions_list, label_list = [], [], []\n",
    "    for history,impressions,labels in batch:\n",
    "        history_list.append([news_2_index.get(news_id, 0) for news_id in history])\n",
    "        impressions_list.append([news_2_index.get(news_id, 0) for news_id in impressions])\n",
    "        label_list.append(labels)\n",
    "        \n",
    "    history_list = torch.tensor(history_list, dtype=torch.int64)\n",
    "    impressions_list = torch.tensor(impressions_list, dtype=torch.int64)\n",
    "    label_list = torch.tensor(label_list, dtype=torch.int64)\n",
    "    \n",
    "    return history_list.to(device), impressions_list.to(device), label_list.to(device)"
   ]
  },
  {
   "cell_type": "code",
   "execution_count": 48,
   "metadata": {},
   "outputs": [],
   "source": [
    "train_dl = torch.utils.data.DataLoader(\n",
    "    train_ds, batch_size=1, \n",
    "    shuffle=False, num_workers=0, collate_fn=collate_batch)"
   ]
  },
  {
   "cell_type": "code",
   "execution_count": null,
   "metadata": {},
   "outputs": [],
   "source": []
  },
  {
   "cell_type": "code",
   "execution_count": null,
   "metadata": {},
   "outputs": [],
   "source": []
  },
  {
   "cell_type": "markdown",
   "metadata": {},
   "source": [
    "## Generate user embedding\n",
    "\n",
    "Embedding can be created in various ways.\n",
    "1. pooling of news embedding\n",
    "3. end-to-end trained model\n",
    "4. from graph relation"
   ]
  },
  {
   "cell_type": "code",
   "execution_count": 14,
   "metadata": {},
   "outputs": [],
   "source": [
    "def user_emb_gen_from_pooling(behavior_df, news_2_vec):\n",
    "    \"\"\"\n",
    "    create user embedding by the pooling of its corresponding news embedding\n",
    "    return a dictionary whose key is user id and value is a vector\n",
    "    \"\"\"\n",
    "    behavior_df['history'].fillna('',inplace=True)\n",
    "    \n",
    "    result = {}\n",
    "    for _,row in behavior_df.iterrows():\n",
    "        if len(row['history'])>0:\n",
    "            vec = np.array([news_2_vec.get(news_id) for news_id in row['history'].split()] )\n",
    "            vec = np.mean(vec,axis=0)\n",
    "            result[row[USER_ID]] = vec\n",
    "\n",
    "    return result"
   ]
  },
  {
   "cell_type": "code",
   "execution_count": 68,
   "metadata": {},
   "outputs": [
    {
     "name": "stdout",
     "output_type": "stream",
     "text": [
      "CPU times: user 3 µs, sys: 0 ns, total: 3 µs\n",
      "Wall time: 4.29 µs\n"
     ]
    },
    {
     "name": "stderr",
     "output_type": "stream",
     "text": [
      "/home/alchemist/miniconda3/envs/py36/lib/python3.6/site-packages/ipykernel_launcher.py:2: FutureWarning: Sorting because non-concatenation axis is not aligned. A future version\n",
      "of pandas will change to not sort by default.\n",
      "\n",
      "To accept the future behavior, pass 'sort=False'.\n",
      "\n",
      "To retain the current behavior and silence the warning, pass 'sort=True'.\n",
      "\n",
      "  \n"
     ]
    }
   ],
   "source": [
    "%time\n",
    "user_2_vec = user_emb_gen_from_pooling(pd.concat([behaviors_train, behaviors_val]), news_2_vec)"
   ]
  },
  {
   "cell_type": "code",
   "execution_count": 16,
   "metadata": {},
   "outputs": [],
   "source": [
    "# def user_emb_gen_from_pooling(behavior_df, news_2_vec):\n",
    "#     \"\"\"\n",
    "#     create user embedding by the pooling of its corresponding news embedding\n",
    "#     return nn.Embedding instance and word_to_index dictionary\n",
    "#     \"\"\"\n",
    "    \n",
    "#     vocab = []\n",
    "#     emb = []\n",
    "    \n",
    "#     for _,row in behavior_df.iterrows():\n",
    "#         lookup_list = [news_2_vec.get(news_id) for news_id in row['history'].split()]\n",
    "#         lookup_tensor = torch.tensor(lookup_list, dtype=torch.long)\n",
    "#         vec = torch.mean(news_emb(lookup_tensor),axis=0).squeeze()\n",
    "#         print(vec.size())\n",
    "        \n",
    "#         vocab.append(row['user_id'])\n",
    "#         emb.append(vec)\n",
    "    \n",
    "#     print(emb)\n",
    "#     emb.insert(0, torch.randn(len(vec)))  # insert a randomized embedding for padding\n",
    "#     weight = torch.stack(emb)\n",
    "#     embedding = nn.Embedding.from_pretrained(weight, freeze=True)\n",
    "    \n",
    "#     word_ind = {w:i+1 for i,w in enumerate(vocab)}  # index starts from 1, reserve 0 for padding\n",
    "    \n",
    "#     return embedding, word_ind "
   ]
  },
  {
   "cell_type": "code",
   "execution_count": 69,
   "metadata": {},
   "outputs": [],
   "source": [
    "# # test function\n",
    "# user_emb, user_word_index = user_emb_gen_from_pooling(None, news_emb, news_word_index, behaviors_train.head(3))"
   ]
  },
  {
   "cell_type": "markdown",
   "metadata": {},
   "source": [
    "## Predict"
   ]
  },
  {
   "cell_type": "code",
   "execution_count": 16,
   "metadata": {},
   "outputs": [
    {
     "data": {
      "text/html": [
       "<div>\n",
       "<style scoped>\n",
       "    .dataframe tbody tr th:only-of-type {\n",
       "        vertical-align: middle;\n",
       "    }\n",
       "\n",
       "    .dataframe tbody tr th {\n",
       "        vertical-align: top;\n",
       "    }\n",
       "\n",
       "    .dataframe thead th {\n",
       "        text-align: right;\n",
       "    }\n",
       "</style>\n",
       "<table border=\"1\" class=\"dataframe\">\n",
       "  <thead>\n",
       "    <tr style=\"text-align: right;\">\n",
       "      <th></th>\n",
       "      <th>impression_id</th>\n",
       "      <th>user_id</th>\n",
       "      <th>history</th>\n",
       "      <th>impressions</th>\n",
       "    </tr>\n",
       "  </thead>\n",
       "  <tbody>\n",
       "    <tr>\n",
       "      <th>0</th>\n",
       "      <td>1</td>\n",
       "      <td>U80234</td>\n",
       "      <td>N55189 N46039 N51741 N53234 N11276 N264 N40716...</td>\n",
       "      <td>N28682-0 N48740-0 N31958-1 N34130-0 N6916-0 N5...</td>\n",
       "    </tr>\n",
       "    <tr>\n",
       "      <th>1</th>\n",
       "      <td>2</td>\n",
       "      <td>U60458</td>\n",
       "      <td>N58715 N32109 N51180 N33438 N54827 N28488 N611...</td>\n",
       "      <td>N20036-0 N23513-1 N32536-0 N46976-0 N35216-0 N...</td>\n",
       "    </tr>\n",
       "    <tr>\n",
       "      <th>2</th>\n",
       "      <td>3</td>\n",
       "      <td>U44190</td>\n",
       "      <td>N56253 N1150 N55189 N16233 N61704 N51706 N5303...</td>\n",
       "      <td>N36779-0 N62365-0 N58098-0 N5472-0 N13408-0 N5...</td>\n",
       "    </tr>\n",
       "    <tr>\n",
       "      <th>3</th>\n",
       "      <td>4</td>\n",
       "      <td>U87380</td>\n",
       "      <td>N63554 N49153 N28678 N23232 N43369 N58518 N444...</td>\n",
       "      <td>N6950-0 N60215-0 N6074-0 N11930-0 N6916-0 N248...</td>\n",
       "    </tr>\n",
       "    <tr>\n",
       "      <th>4</th>\n",
       "      <td>5</td>\n",
       "      <td>U9444</td>\n",
       "      <td>N51692 N18285 N26015 N22679 N55556</td>\n",
       "      <td>N5940-1 N23513-0 N49285-0 N23355-0 N19990-0 N3...</td>\n",
       "    </tr>\n",
       "  </tbody>\n",
       "</table>\n",
       "</div>"
      ],
      "text/plain": [
       "   impression_id user_id                                            history  \\\n",
       "0              1  U80234  N55189 N46039 N51741 N53234 N11276 N264 N40716...   \n",
       "1              2  U60458  N58715 N32109 N51180 N33438 N54827 N28488 N611...   \n",
       "2              3  U44190  N56253 N1150 N55189 N16233 N61704 N51706 N5303...   \n",
       "3              4  U87380  N63554 N49153 N28678 N23232 N43369 N58518 N444...   \n",
       "4              5   U9444                 N51692 N18285 N26015 N22679 N55556   \n",
       "\n",
       "                                         impressions  \n",
       "0  N28682-0 N48740-0 N31958-1 N34130-0 N6916-0 N5...  \n",
       "1  N20036-0 N23513-1 N32536-0 N46976-0 N35216-0 N...  \n",
       "2  N36779-0 N62365-0 N58098-0 N5472-0 N13408-0 N5...  \n",
       "3  N6950-0 N60215-0 N6074-0 N11930-0 N6916-0 N248...  \n",
       "4  N5940-1 N23513-0 N49285-0 N23355-0 N19990-0 N3...  "
      ]
     },
     "execution_count": 16,
     "metadata": {},
     "output_type": "execute_result"
    }
   ],
   "source": [
    "behaviors_val.head()"
   ]
  },
  {
   "cell_type": "markdown",
   "metadata": {},
   "source": [
    "prepare labelled data"
   ]
  },
  {
   "cell_type": "code",
   "execution_count": 17,
   "metadata": {},
   "outputs": [],
   "source": [
    "def cosine_sim(user_v,news_v):\n",
    "    return np.dot(user_v, news_v)/(np.linalg.norm(user_v)*np.linalg.norm(news_v))"
   ]
  },
  {
   "cell_type": "code",
   "execution_count": 51,
   "metadata": {},
   "outputs": [
    {
     "data": {
      "text/plain": [
       "array([0., 0., 0.])"
      ]
     },
     "execution_count": 51,
     "metadata": {},
     "output_type": "execute_result"
    }
   ],
   "source": [
    "np.zeros(3)"
   ]
  },
  {
   "cell_type": "code",
   "execution_count": 53,
   "metadata": {},
   "outputs": [],
   "source": [
    "def get_label_from_behavior(df):\n",
    "#     df['is_clicked'] =\n",
    "    return df['impressions'].apply(lambda s: [int(x[-1]) for x in s.split(' ')])\n",
    "\n",
    "\n",
    "def predict_from_behavior(df):\n",
    "    def _calculate_relevence(r):\n",
    "        news = [x.split('-')[0] for x in r['impressions'].split(' ')]\n",
    "        global news_2_vec, user_2_vec\n",
    "        \n",
    "        # if user id is not calculated, pad 0 as relevence\n",
    "        if r['user_id'] not in user_2_vec:\n",
    "            return np.zeros(len(news))\n",
    "        \n",
    "        # construct similarity\n",
    "        user_v = user_2_vec.get(r['user_id'])\n",
    "        relevence = [cosine_sim(news_2_vec.get(news_id),user_v) if news_id in news_2_vec else 0 for news_id in news ]\n",
    "        \n",
    "        rank = np.argsort(np.argsort(relevence)[::-1]) + 1  # really trick i would say. check https://github.com/numpy/numpy/issues/8757\n",
    "        return 1./rank\n",
    "    return df.progress_apply(_calculate_relevence, axis=1)\n",
    "  "
   ]
  },
  {
   "cell_type": "code",
   "execution_count": 53,
   "metadata": {},
   "outputs": [
    {
     "name": "stderr",
     "output_type": "stream",
     "text": [
      "100%|██████████| 156965/156965 [01:16<00:00, 2057.80it/s]\n"
     ]
    }
   ],
   "source": [
    "# calculate predictions\n",
    "behaviors_train['is_clicked_pred'] = predict_from_behavior(behaviors_train)"
   ]
  },
  {
   "cell_type": "code",
   "execution_count": 54,
   "metadata": {},
   "outputs": [],
   "source": [
    "behaviors_train['is_clicked'] = get_label_from_behavior(behaviors_train)"
   ]
  },
  {
   "cell_type": "code",
   "execution_count": 55,
   "metadata": {},
   "outputs": [
    {
     "data": {
      "text/html": [
       "<div>\n",
       "<style scoped>\n",
       "    .dataframe tbody tr th:only-of-type {\n",
       "        vertical-align: middle;\n",
       "    }\n",
       "\n",
       "    .dataframe tbody tr th {\n",
       "        vertical-align: top;\n",
       "    }\n",
       "\n",
       "    .dataframe thead th {\n",
       "        text-align: right;\n",
       "    }\n",
       "</style>\n",
       "<table border=\"1\" class=\"dataframe\">\n",
       "  <thead>\n",
       "    <tr style=\"text-align: right;\">\n",
       "      <th></th>\n",
       "      <th>impression_id</th>\n",
       "      <th>user_id</th>\n",
       "      <th>history</th>\n",
       "      <th>impressions</th>\n",
       "      <th>is_clicked_pred</th>\n",
       "      <th>is_clicked</th>\n",
       "    </tr>\n",
       "  </thead>\n",
       "  <tbody>\n",
       "    <tr>\n",
       "      <th>84752</th>\n",
       "      <td>84753</td>\n",
       "      <td>U10353</td>\n",
       "      <td>N50710</td>\n",
       "      <td>N35729-0 N62729-1</td>\n",
       "      <td>[1.0, 0.5]</td>\n",
       "      <td>[0, 1]</td>\n",
       "    </tr>\n",
       "    <tr>\n",
       "      <th>83715</th>\n",
       "      <td>83716</td>\n",
       "      <td>U67766</td>\n",
       "      <td>N60844 N50578 N51706 N995 N36053 N20710 N44361...</td>\n",
       "      <td>N62729-0 N35729-1 N27581-0 N12042-0 N31273-0 N...</td>\n",
       "      <td>[0.25, 1.0, 0.5, 0.14285714285714285, 0.333333...</td>\n",
       "      <td>[0, 1, 0, 0, 0, 0, 0]</td>\n",
       "    </tr>\n",
       "    <tr>\n",
       "      <th>92670</th>\n",
       "      <td>92671</td>\n",
       "      <td>U74854</td>\n",
       "      <td>N16870 N17919 N30157 N50028 N8851 N43734 N1844...</td>\n",
       "      <td>N2869-0 N58499-0 N40539-0 N37199-0 N11768-0 N1...</td>\n",
       "      <td>[0.011235955056179775, 0.012658227848101266, 0...</td>\n",
       "      <td>[0, 0, 0, 0, 0, 0, 0, 0, 0, 0, 0, 0, 0, 0, 0, ...</td>\n",
       "    </tr>\n",
       "  </tbody>\n",
       "</table>\n",
       "</div>"
      ],
      "text/plain": [
       "       impression_id user_id  \\\n",
       "84752          84753  U10353   \n",
       "83715          83716  U67766   \n",
       "92670          92671  U74854   \n",
       "\n",
       "                                                 history  \\\n",
       "84752                                             N50710   \n",
       "83715  N60844 N50578 N51706 N995 N36053 N20710 N44361...   \n",
       "92670  N16870 N17919 N30157 N50028 N8851 N43734 N1844...   \n",
       "\n",
       "                                             impressions  \\\n",
       "84752                                  N35729-0 N62729-1   \n",
       "83715  N62729-0 N35729-1 N27581-0 N12042-0 N31273-0 N...   \n",
       "92670  N2869-0 N58499-0 N40539-0 N37199-0 N11768-0 N1...   \n",
       "\n",
       "                                         is_clicked_pred  \\\n",
       "84752                                         [1.0, 0.5]   \n",
       "83715  [0.25, 1.0, 0.5, 0.14285714285714285, 0.333333...   \n",
       "92670  [0.011235955056179775, 0.012658227848101266, 0...   \n",
       "\n",
       "                                              is_clicked  \n",
       "84752                                             [0, 1]  \n",
       "83715                              [0, 1, 0, 0, 0, 0, 0]  \n",
       "92670  [0, 0, 0, 0, 0, 0, 0, 0, 0, 0, 0, 0, 0, 0, 0, ...  "
      ]
     },
     "execution_count": 55,
     "metadata": {},
     "output_type": "execute_result"
    }
   ],
   "source": [
    "behaviors_train.sample(3)"
   ]
  },
  {
   "cell_type": "code",
   "execution_count": 57,
   "metadata": {},
   "outputs": [
    {
     "name": "stdout",
     "output_type": "stream",
     "text": [
      "AUC:0.5235\n",
      "MRR:0.2393\n",
      "nDCG@5:0.2469\n",
      "nDCG@10:0.3044\n"
     ]
    },
    {
     "data": {
      "text/plain": [
       "(0.5235014074598069,\n",
       " 0.2392946769528863,\n",
       " 0.24694093432823816,\n",
       " 0.3043782717134491)"
      ]
     },
     "execution_count": 57,
     "metadata": {},
     "output_type": "execute_result"
    }
   ],
   "source": [
    "scoring_from_relevence(behaviors_train['is_clicked'], behaviors_train['is_clicked_pred'])"
   ]
  },
  {
   "cell_type": "code",
   "execution_count": 60,
   "metadata": {},
   "outputs": [
    {
     "data": {
      "text/plain": [
       "(3238, 6)"
      ]
     },
     "execution_count": 60,
     "metadata": {},
     "output_type": "execute_result"
    }
   ],
   "source": [
    "# empty user embedding is only a small portion\n",
    "behaviors_train[behaviors_train['is_clicked_pred'].apply(sum)==0].shape"
   ]
  },
  {
   "cell_type": "code",
   "execution_count": 61,
   "metadata": {},
   "outputs": [
    {
     "data": {
      "text/plain": [
       "(156965, 6)"
      ]
     },
     "execution_count": 61,
     "metadata": {},
     "output_type": "execute_result"
    }
   ],
   "source": [
    "behaviors_train.shape"
   ]
  },
  {
   "cell_type": "code",
   "execution_count": 70,
   "metadata": {},
   "outputs": [
    {
     "name": "stderr",
     "output_type": "stream",
     "text": [
      "100%|██████████| 73152/73152 [00:35<00:00, 2050.41it/s]\n"
     ]
    }
   ],
   "source": [
    "# calculate predictions\n",
    "behaviors_val['is_clicked_pred'] = predict_from_behavior(behaviors_val)\n",
    "behaviors_val['is_clicked'] = get_label_from_behavior(behaviors_val)"
   ]
  },
  {
   "cell_type": "code",
   "execution_count": 72,
   "metadata": {},
   "outputs": [
    {
     "name": "stderr",
     "output_type": "stream",
     "text": [
      "100%|██████████| 73152/73152 [00:45<00:00, 1606.28it/s]"
     ]
    },
    {
     "name": "stdout",
     "output_type": "stream",
     "text": [
      "0.5159025327192664\n"
     ]
    },
    {
     "name": "stderr",
     "output_type": "stream",
     "text": [
      "\n"
     ]
    }
   ],
   "source": [
    "group_auc = behaviors_val.progress_apply(lambda r: roc_auc_score(r['is_clicked'],r['is_clicked_pred']), axis=1).mean()\n",
    "print(group_auc)"
   ]
  },
  {
   "cell_type": "code",
   "execution_count": null,
   "metadata": {},
   "outputs": [],
   "source": []
  },
  {
   "cell_type": "code",
   "execution_count": null,
   "metadata": {},
   "outputs": [],
   "source": []
  },
  {
   "cell_type": "code",
   "execution_count": null,
   "metadata": {},
   "outputs": [],
   "source": []
  },
  {
   "cell_type": "code",
   "execution_count": 35,
   "metadata": {},
   "outputs": [],
   "source": [
    "def generate_pred_dataset(df, is_test=False):\n",
    "    \"\"\"df: user bahaviour df\"\"\"\n",
    "    df['impression'] = df['impressions'].apply(lambda x: [y for y in x.split()])\n",
    "    df_pred = df[['user_id','impression']].explode('impression')\n",
    "    df_pred['news_id'] = df_pred['impression'].apply(lambda x: x.split('-')[0])\n",
    "    \n",
    "    if not is_test:\n",
    "        df_pred['label'] = df_pred['impression'].apply(lambda x: x.split('-')[1]).astype(np.uint8)\n",
    "    \n",
    "    return df_pred"
   ]
  },
  {
   "cell_type": "code",
   "execution_count": 52,
   "metadata": {},
   "outputs": [],
   "source": [
    "df2 = generate_pred_dataset(behaviors_train)"
   ]
  },
  {
   "cell_type": "code",
   "execution_count": 53,
   "metadata": {},
   "outputs": [
    {
     "data": {
      "text/html": [
       "<div>\n",
       "<style scoped>\n",
       "    .dataframe tbody tr th:only-of-type {\n",
       "        vertical-align: middle;\n",
       "    }\n",
       "\n",
       "    .dataframe tbody tr th {\n",
       "        vertical-align: top;\n",
       "    }\n",
       "\n",
       "    .dataframe thead th {\n",
       "        text-align: right;\n",
       "    }\n",
       "</style>\n",
       "<table border=\"1\" class=\"dataframe\">\n",
       "  <thead>\n",
       "    <tr style=\"text-align: right;\">\n",
       "      <th></th>\n",
       "      <th>user_id</th>\n",
       "      <th>impression</th>\n",
       "      <th>news_id</th>\n",
       "      <th>label</th>\n",
       "    </tr>\n",
       "  </thead>\n",
       "  <tbody>\n",
       "    <tr>\n",
       "      <th>0</th>\n",
       "      <td>U13740</td>\n",
       "      <td>N55689-1</td>\n",
       "      <td>N55689</td>\n",
       "      <td>1</td>\n",
       "    </tr>\n",
       "    <tr>\n",
       "      <th>0</th>\n",
       "      <td>U13740</td>\n",
       "      <td>N35729-0</td>\n",
       "      <td>N35729</td>\n",
       "      <td>0</td>\n",
       "    </tr>\n",
       "    <tr>\n",
       "      <th>1</th>\n",
       "      <td>U91836</td>\n",
       "      <td>N20678-0</td>\n",
       "      <td>N20678</td>\n",
       "      <td>0</td>\n",
       "    </tr>\n",
       "    <tr>\n",
       "      <th>1</th>\n",
       "      <td>U91836</td>\n",
       "      <td>N39317-0</td>\n",
       "      <td>N39317</td>\n",
       "      <td>0</td>\n",
       "    </tr>\n",
       "    <tr>\n",
       "      <th>1</th>\n",
       "      <td>U91836</td>\n",
       "      <td>N58114-0</td>\n",
       "      <td>N58114</td>\n",
       "      <td>0</td>\n",
       "    </tr>\n",
       "  </tbody>\n",
       "</table>\n",
       "</div>"
      ],
      "text/plain": [
       "  user_id impression news_id  label\n",
       "0  U13740   N55689-1  N55689      1\n",
       "0  U13740   N35729-0  N35729      0\n",
       "1  U91836   N20678-0  N20678      0\n",
       "1  U91836   N39317-0  N39317      0\n",
       "1  U91836   N58114-0  N58114      0"
      ]
     },
     "execution_count": 53,
     "metadata": {},
     "output_type": "execute_result"
    }
   ],
   "source": [
    "df2.head()"
   ]
  },
  {
   "cell_type": "code",
   "execution_count": 55,
   "metadata": {},
   "outputs": [],
   "source": [
    "def evaluate(r):\n",
    "    user_v = user_2_vec.get(r[USER_ID], None)\n",
    "    news_v = news_2_vec.get(r[NEWS_ID], None)\n",
    "    \n",
    "    if user_v is not None and news_v is not None:\n",
    "        return np.dot(user_v, news_v)/(np.linalg.norm(user_v)*np.linalg.norm(news_v))\n",
    "    else:\n",
    "        return 0"
   ]
  },
  {
   "cell_type": "code",
   "execution_count": 56,
   "metadata": {},
   "outputs": [
    {
     "name": "stderr",
     "output_type": "stream",
     "text": [
      "100%|██████████| 5843444/5843444 [03:22<00:00, 28812.19it/s]\n"
     ]
    }
   ],
   "source": [
    "y_pred = df2.progress_apply(evaluate,axis=1)"
   ]
  },
  {
   "cell_type": "code",
   "execution_count": 68,
   "metadata": {},
   "outputs": [
    {
     "data": {
      "text/plain": [
       "1.0000001192092896"
      ]
     },
     "execution_count": 68,
     "metadata": {},
     "output_type": "execute_result"
    }
   ],
   "source": [
    "max(y_pred)"
   ]
  },
  {
   "cell_type": "code",
   "execution_count": null,
   "metadata": {},
   "outputs": [],
   "source": [
    "(y_pred.values+1)/2"
   ]
  },
  {
   "cell_type": "code",
   "execution_count": 73,
   "metadata": {},
   "outputs": [],
   "source": [
    "import seaborn as sns\n"
   ]
  },
  {
   "cell_type": "code",
   "execution_count": 74,
   "metadata": {},
   "outputs": [
    {
     "name": "stderr",
     "output_type": "stream",
     "text": [
      "/home/alchemist/miniconda3/envs/py36/lib/python3.6/site-packages/seaborn/distributions.py:218: MatplotlibDeprecationWarning: \n",
      "The 'normed' kwarg was deprecated in Matplotlib 2.1 and will be removed in 3.1. Use 'density' instead.\n",
      "  color=hist_color, **hist_kws)\n"
     ]
    },
    {
     "data": {
      "text/plain": [
       "<matplotlib.axes._subplots.AxesSubplot at 0x7f89d43ab550>"
      ]
     },
     "execution_count": 74,
     "metadata": {},
     "output_type": "execute_result"
    },
    {
     "data": {
      "image/png": "[encoded data removed]",
      "text/plain": [
       "<Figure size 432x288 with 1 Axes>"
      ]
     },
     "metadata": {
      "needs_background": "light"
     },
     "output_type": "display_data"
    }
   ],
   "source": [
    "sns.distplot(y_pred.sample(100000))"
   ]
  },
  {
   "cell_type": "code",
   "execution_count": 69,
   "metadata": {},
   "outputs": [],
   "source": [
    "fpr, tpr, thresholds = metrics.roc_curve(df2[LABEL].values,(y_pred.values+1)/2,pos_label=1)"
   ]
  },
  {
   "cell_type": "code",
   "execution_count": 70,
   "metadata": {},
   "outputs": [
    {
     "data": {
      "text/plain": [
       "0.5145798938358582"
      ]
     },
     "execution_count": 70,
     "metadata": {},
     "output_type": "execute_result"
    }
   ],
   "source": [
    "metrics.auc(fpr, tpr)"
   ]
  },
  {
   "cell_type": "code",
   "execution_count": 71,
   "metadata": {},
   "outputs": [],
   "source": [
    "from matplotlib import pyplot as plt\n",
    "%matplotlib inline"
   ]
  },
  {
   "cell_type": "code",
   "execution_count": 72,
   "metadata": {},
   "outputs": [
    {
     "data": {
      "image/png": "[encoded data removed]",
      "text/plain": [
       "<Figure size 432x288 with 1 Axes>"
      ]
     },
     "metadata": {
      "needs_background": "light"
     },
     "output_type": "display_data"
    }
   ],
   "source": [
    "fig, ax = plt.subplots()\n",
    "ax.plot(fpr, tpr, color='b', lw=2)\n",
    "plt.show()"
   ]
  },
  {
   "cell_type": "markdown",
   "metadata": {},
   "source": [
    "The result is no better than random guess. Need to validate the news vector. To see if closet vectors are making sense."
   ]
  },
  {
   "cell_type": "code",
   "execution_count": null,
   "metadata": {},
   "outputs": [],
   "source": []
  },
  {
   "cell_type": "code",
   "execution_count": null,
   "metadata": {},
   "outputs": [],
   "source": []
  },
  {
   "cell_type": "code",
   "execution_count": null,
   "metadata": {},
   "outputs": [],
   "source": []
  },
  {
   "cell_type": "code",
   "execution_count": 30,
   "metadata": {},
   "outputs": [],
   "source": [
    "def count_click(impressions):\n",
    "    return sum([int(x[-1]) for x in impressions.split(' ')])"
   ]
  },
  {
   "cell_type": "code",
   "execution_count": 31,
   "metadata": {},
   "outputs": [
    {
     "data": {
      "text/plain": [
       "0        1\n",
       "1        1\n",
       "2        1\n",
       "3        1\n",
       "4        2\n",
       "        ..\n",
       "73147    9\n",
       "73148    1\n",
       "73149    2\n",
       "73150    1\n",
       "73151    1\n",
       "Name: impressions, Length: 73152, dtype: int64"
      ]
     },
     "execution_count": 31,
     "metadata": {},
     "output_type": "execute_result"
    }
   ],
   "source": [
    "behaviors_val['impressions'].apply(count_click)"
   ]
  },
  {
   "cell_type": "code",
   "execution_count": 77,
   "metadata": {},
   "outputs": [
    {
     "data": {
      "text/html": [
       "<div>\n",
       "<style scoped>\n",
       "    .dataframe tbody tr th:only-of-type {\n",
       "        vertical-align: middle;\n",
       "    }\n",
       "\n",
       "    .dataframe tbody tr th {\n",
       "        vertical-align: top;\n",
       "    }\n",
       "\n",
       "    .dataframe thead th {\n",
       "        text-align: right;\n",
       "    }\n",
       "</style>\n",
       "<table border=\"1\" class=\"dataframe\">\n",
       "  <thead>\n",
       "    <tr style=\"text-align: right;\">\n",
       "      <th></th>\n",
       "      <th>news_id</th>\n",
       "      <th>title</th>\n",
       "      <th>abstract</th>\n",
       "    </tr>\n",
       "  </thead>\n",
       "  <tbody>\n",
       "    <tr>\n",
       "      <th>0</th>\n",
       "      <td>N55528</td>\n",
       "      <td>The Brands Queen Elizabeth, Prince Charles, an...</td>\n",
       "      <td>Shop the notebooks, jackets, and more that the...</td>\n",
       "    </tr>\n",
       "    <tr>\n",
       "      <th>1</th>\n",
       "      <td>N18955</td>\n",
       "      <td>Dispose of unwanted prescription drugs during ...</td>\n",
       "      <td>NaN</td>\n",
       "    </tr>\n",
       "    <tr>\n",
       "      <th>2</th>\n",
       "      <td>N61837</td>\n",
       "      <td>The Cost of Trump's Aid Freeze in the Trenches...</td>\n",
       "      <td>Lt. Ivan Molchanets peeked over a parapet of s...</td>\n",
       "    </tr>\n",
       "    <tr>\n",
       "      <th>3</th>\n",
       "      <td>N53526</td>\n",
       "      <td>I Was An NBA Wife. Here's How It Affected My M...</td>\n",
       "      <td>I felt like I was a fraud, and being an NBA wi...</td>\n",
       "    </tr>\n",
       "    <tr>\n",
       "      <th>4</th>\n",
       "      <td>N38324</td>\n",
       "      <td>How to Get Rid of Skin Tags, According to a De...</td>\n",
       "      <td>They seem harmless, but there's a very good re...</td>\n",
       "    </tr>\n",
       "  </tbody>\n",
       "</table>\n",
       "</div>"
      ],
      "text/plain": [
       "  news_id                                              title  \\\n",
       "0  N55528  The Brands Queen Elizabeth, Prince Charles, an...   \n",
       "1  N18955  Dispose of unwanted prescription drugs during ...   \n",
       "2  N61837  The Cost of Trump's Aid Freeze in the Trenches...   \n",
       "3  N53526  I Was An NBA Wife. Here's How It Affected My M...   \n",
       "4  N38324  How to Get Rid of Skin Tags, According to a De...   \n",
       "\n",
       "                                            abstract  \n",
       "0  Shop the notebooks, jackets, and more that the...  \n",
       "1                                                NaN  \n",
       "2  Lt. Ivan Molchanets peeked over a parapet of s...  \n",
       "3  I felt like I was a fraud, and being an NBA wi...  \n",
       "4  They seem harmless, but there's a very good re...  "
      ]
     },
     "execution_count": 77,
     "metadata": {},
     "output_type": "execute_result"
    }
   ],
   "source": [
    "news_val.head()"
   ]
  },
  {
   "cell_type": "code",
   "execution_count": null,
   "metadata": {},
   "outputs": [],
   "source": [
    "def predict(pred_net, user_emb, news_emb, pred_dataset):\n",
    "    \"\"\"\n",
    "    generate a score between (0-1) on whether this news should be recommmended to this user\n",
    "    \n",
    "    pred_dataset: two values per instance, user_id and news_id\n",
    "    \"\"\"\n",
    "    "
   ]
  }
 ],
 "metadata": {
  "kernelspec": {
   "display_name": "Python 3",
   "language": "python",
   "name": "python3"
  },
  "language_info": {
   "codemirror_mode": {
    "name": "ipython",
    "version": 3
   },
   "file_extension": ".py",
   "mimetype": "text/x-python",
   "name": "python",
   "nbconvert_exporter": "python",
   "pygments_lexer": "ipython3",
   "version": "3.6.9"
  },
  "toc": {
   "base_numbering": 1,
   "nav_menu": {},
   "number_sections": true,
   "sideBar": true,
   "skip_h1_title": false,
   "title_cell": "Table of Contents",
   "title_sidebar": "Contents",
   "toc_cell": false,
   "toc_position": {},
   "toc_section_display": true,
   "toc_window_display": false
  }
 },
 "nbformat": 4,
 "nbformat_minor": 4
}
