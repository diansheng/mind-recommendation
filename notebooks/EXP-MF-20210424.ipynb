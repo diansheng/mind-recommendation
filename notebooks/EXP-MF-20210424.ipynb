{
 "cells": [
  {
   "cell_type": "markdown",
   "metadata": {},
   "source": [
    "- Prepare data\n",
    "- Build Model\n",
    "- Train\n",
    "- Build evaluation matrix\n",
    "- Evaluate"
   ]
  },
  {
   "cell_type": "markdown",
   "metadata": {},
   "source": [
    "If use behaviour information alone, the predicted AUC is around 0.5, which means nothing is learnt."
   ]
  },
  {
   "cell_type": "code",
   "execution_count": 1,
   "metadata": {},
   "outputs": [],
   "source": [
    "import sys\n",
    "sys.path.insert(0, \"../scripts/\")"
   ]
  },
  {
   "cell_type": "code",
   "execution_count": 27,
   "metadata": {},
   "outputs": [],
   "source": [
    "import numpy as np"
   ]
  },
  {
   "cell_type": "code",
   "execution_count": 2,
   "metadata": {},
   "outputs": [],
   "source": [
    "from dataset import *"
   ]
  },
  {
   "cell_type": "markdown",
   "metadata": {},
   "source": [
    "## Load and prepare dataset"
   ]
  },
  {
   "cell_type": "code",
   "execution_count": 3,
   "metadata": {},
   "outputs": [
    {
     "data": {
      "text/plain": [
       "(5843444, 3)"
      ]
     },
     "execution_count": 3,
     "metadata": {},
     "output_type": "execute_result"
    }
   ],
   "source": [
    "env = 'MINDsmall_train'\n",
    "train_df = load_behavior_data(f'../data/{env}/behaviors.tsv')\n",
    "train_df = behavior_to_user_item_pair_w_label(train_df)\n",
    "train_df.shape"
   ]
  },
  {
   "cell_type": "code",
   "execution_count": 4,
   "metadata": {},
   "outputs": [
    {
     "data": {
      "text/plain": [
       "(2740998, 3)"
      ]
     },
     "execution_count": 4,
     "metadata": {},
     "output_type": "execute_result"
    }
   ],
   "source": [
    "env = 'MINDsmall_dev'\n",
    "test_df = load_behavior_data(f'../data/{env}/behaviors.tsv')\n",
    "test_df = behavior_to_user_item_pair_w_label(test_df)\n",
    "test_df.shape"
   ]
  },
  {
   "cell_type": "markdown",
   "metadata": {},
   "source": [
    "## Modeling"
   ]
  },
  {
   "cell_type": "markdown",
   "metadata": {},
   "source": [
    "#### Two tower structure, pair-wise matching"
   ]
  },
  {
   "cell_type": "code",
   "execution_count": 5,
   "metadata": {},
   "outputs": [],
   "source": [
    "from sklearn import preprocessing"
   ]
  },
  {
   "cell_type": "code",
   "execution_count": 6,
   "metadata": {},
   "outputs": [],
   "source": [
    "user_2_idx = preprocessing.LabelEncoder()\n",
    "news_2_idx = preprocessing.LabelEncoder()"
   ]
  },
  {
   "cell_type": "code",
   "execution_count": 7,
   "metadata": {},
   "outputs": [
    {
     "name": "stdout",
     "output_type": "stream",
     "text": [
      "CPU times: user 1 µs, sys: 0 ns, total: 1 µs\n",
      "Wall time: 3.34 µs\n"
     ]
    },
    {
     "data": {
      "text/plain": [
       "LabelEncoder()"
      ]
     },
     "execution_count": 7,
     "metadata": {},
     "output_type": "execute_result"
    }
   ],
   "source": [
    "# fit label encoder\n",
    "%time\n",
    "user_2_idx.fit(train_df[USER_ID].values.tolist()+test_df[USER_ID].values.tolist())\n",
    "news_2_idx.fit(train_df[NEWS_ID].values.tolist()+test_df[NEWS_ID].values.tolist())"
   ]
  },
  {
   "cell_type": "markdown",
   "metadata": {},
   "source": [
    "Prepare train and test"
   ]
  },
  {
   "cell_type": "code",
   "execution_count": 12,
   "metadata": {},
   "outputs": [],
   "source": [
    "X1 = user_2_idx.transform(train_df[USER_ID])\n",
    "X2 = news_2_idx.transform(train_df[NEWS_ID])\n",
    "Y = train_df[LABEL]"
   ]
  },
  {
   "cell_type": "code",
   "execution_count": 13,
   "metadata": {},
   "outputs": [],
   "source": [
    "X1_test = user_2_idx.transform(test_df[USER_ID])\n",
    "X2_test = news_2_idx.transform(test_df[NEWS_ID])\n",
    "Y_test = test_df[LABEL]"
   ]
  },
  {
   "cell_type": "code",
   "execution_count": 10,
   "metadata": {},
   "outputs": [],
   "source": [
    "from sklearn.model_selection import train_test_split"
   ]
  },
  {
   "cell_type": "code",
   "execution_count": 11,
   "metadata": {},
   "outputs": [],
   "source": [
    "# X1_train, X1_test, X2_train, X2_test, Y_train, Y_test = train_test_split(X1, X2, Y, test_size=0.2, random_state=42)"
   ]
  },
  {
   "cell_type": "code",
   "execution_count": 14,
   "metadata": {},
   "outputs": [
    {
     "name": "stdout",
     "output_type": "stream",
     "text": [
      "Please install GPU version of TF\n"
     ]
    }
   ],
   "source": [
    "import tensorflow as tf\n",
    "if tf.test.gpu_device_name():\n",
    "    print('Default GPU Device:{}'.format(tf.test.gpu_device_name()))\n",
    "else:\n",
    "    print(\"Please install GPU version of TF\")"
   ]
  },
  {
   "cell_type": "code",
   "execution_count": 15,
   "metadata": {},
   "outputs": [],
   "source": [
    "USER_SIZE = len(user_2_idx.classes_)\n",
    "NEWS_SIZE = len(news_2_idx.classes_)"
   ]
  },
  {
   "cell_type": "code",
   "execution_count": 16,
   "metadata": {},
   "outputs": [],
   "source": [
    "from tensorflow.keras.models import Model\n",
    "from tensorflow.keras import layers as L\n",
    "from tensorflow import keras\n",
    "# from keras import "
   ]
  },
  {
   "cell_type": "code",
   "execution_count": 17,
   "metadata": {},
   "outputs": [],
   "source": [
    "# define the layers\n",
    "def create_model(embedding_dim=64):\n",
    "    x_user = L.Input(shape=(1,))\n",
    "    x_news = L.Input(shape=(1,))\n",
    "\n",
    "    user_embedding = L.Embedding(input_dim=USER_SIZE, output_dim=embedding_dim)\n",
    "    news_embedding = L.Embedding(input_dim=NEWS_SIZE, output_dim=embedding_dim)\n",
    "    \n",
    "    h1 = user_embedding(x_user)\n",
    "    h2 = user_embedding(x_news)\n",
    "    h = L.Concatenate()([h1,h2])\n",
    "    y = L.Dense(1, activation='sigmoid')(h)\n",
    "    y = L.Dot(axes=-1, normalize=False )([h1,h2])\n",
    "    # define the model\n",
    "    model = Model(inputs=[x_user,x_news], outputs=y)\n",
    "    return model"
   ]
  },
  {
   "cell_type": "code",
   "execution_count": 18,
   "metadata": {},
   "outputs": [],
   "source": [
    "tf.keras.backend.clear_session()"
   ]
  },
  {
   "cell_type": "code",
   "execution_count": 19,
   "metadata": {},
   "outputs": [
    {
     "name": "stdout",
     "output_type": "stream",
     "text": [
      "Model: \"model\"\n",
      "__________________________________________________________________________________________________\n",
      "Layer (type)                    Output Shape         Param #     Connected to                     \n",
      "==================================================================================================\n",
      "input_1 (InputLayer)            [(None, 1)]          0                                            \n",
      "__________________________________________________________________________________________________\n",
      "input_2 (InputLayer)            [(None, 1)]          0                                            \n",
      "__________________________________________________________________________________________________\n",
      "embedding (Embedding)           (None, 1, 64)        6019648     input_1[0][0]                    \n",
      "                                                                 input_2[0][0]                    \n",
      "__________________________________________________________________________________________________\n",
      "dot (Dot)                       (None, 1, 1)         0           embedding[0][0]                  \n",
      "                                                                 embedding[1][0]                  \n",
      "==================================================================================================\n",
      "Total params: 6,019,648\n",
      "Trainable params: 6,019,648\n",
      "Non-trainable params: 0\n",
      "__________________________________________________________________________________________________\n"
     ]
    }
   ],
   "source": [
    "model = create_model()\n",
    "model.summary()"
   ]
  },
  {
   "cell_type": "code",
   "execution_count": 20,
   "metadata": {},
   "outputs": [],
   "source": [
    "opt = tf.keras.optimizers.SGD(learning_rate=1e-3)"
   ]
  },
  {
   "cell_type": "code",
   "execution_count": 21,
   "metadata": {},
   "outputs": [],
   "source": [
    "# model.compile(optimizer='rmsprop', loss='binary_crossentropy', metrics=['accuracy'])\n",
    "model.compile(optimizer=opt, loss='binary_crossentropy', metrics=['accuracy'])\n",
    "# model.compile(optimizer=opt, loss='mse', metrics=['accuracy'])"
   ]
  },
  {
   "cell_type": "code",
   "execution_count": 22,
   "metadata": {},
   "outputs": [],
   "source": [
    "# model.compile(optimizer=opt, \n",
    "#     # Loss function to minimize\n",
    "#     loss=keras.losses.BinaryCrossentropy(),\n",
    "#     # List of metrics to monitor\n",
    "#     metrics=['accuracy'])"
   ]
  },
  {
   "cell_type": "code",
   "execution_count": 23,
   "metadata": {},
   "outputs": [
    {
     "name": "stdout",
     "output_type": "stream",
     "text": [
      "Epoch 1/10\n",
      "103/103 [==============================] - 2s 23ms/step - loss: 0.4282 - accuracy: 0.9596 - val_loss: 0.4282 - val_accuracy: 0.9596\n",
      "Epoch 2/10\n",
      "103/103 [==============================] - 2s 22ms/step - loss: 0.4279 - accuracy: 0.9596 - val_loss: 0.4282 - val_accuracy: 0.9596\n",
      "Epoch 3/10\n",
      "103/103 [==============================] - 2s 22ms/step - loss: 0.4277 - accuracy: 0.9596 - val_loss: 0.4282 - val_accuracy: 0.9596\n",
      "Epoch 4/10\n",
      "103/103 [==============================] - 2s 22ms/step - loss: 0.4276 - accuracy: 0.9596 - val_loss: 0.4282 - val_accuracy: 0.9596\n",
      "Epoch 5/10\n",
      "103/103 [==============================] - 2s 22ms/step - loss: 0.4275 - accuracy: 0.9596 - val_loss: 0.4282 - val_accuracy: 0.9596\n",
      "Epoch 6/10\n",
      "103/103 [==============================] - 2s 22ms/step - loss: 0.4274 - accuracy: 0.9596 - val_loss: 0.4282 - val_accuracy: 0.9596\n",
      "Epoch 7/10\n",
      "103/103 [==============================] - 2s 22ms/step - loss: 0.4273 - accuracy: 0.9596 - val_loss: 0.4282 - val_accuracy: 0.9596\n",
      "Epoch 8/10\n",
      "103/103 [==============================] - 2s 22ms/step - loss: 0.4273 - accuracy: 0.9596 - val_loss: 0.4283 - val_accuracy: 0.9596\n",
      "Epoch 9/10\n",
      "103/103 [==============================] - 2s 21ms/step - loss: 0.4272 - accuracy: 0.9596 - val_loss: 0.4282 - val_accuracy: 0.9596\n",
      "Epoch 10/10\n",
      "103/103 [==============================] - 2s 22ms/step - loss: 0.4271 - accuracy: 0.9596 - val_loss: 0.4282 - val_accuracy: 0.9596\n"
     ]
    },
    {
     "data": {
      "text/plain": [
       "<tensorflow.python.keras.callbacks.History at 0x7fa60c1ba7f0>"
      ]
     },
     "execution_count": 23,
     "metadata": {},
     "output_type": "execute_result"
    }
   ],
   "source": [
    "model.fit([X1,X2], Y, epochs=10, batch_size=51200, validation_split=0.1)"
   ]
  },
  {
   "cell_type": "code",
   "execution_count": 34,
   "metadata": {
    "tags": []
   },
   "outputs": [
    {
     "name": "stdout",
     "output_type": "stream",
     "text": [
      "Epoch 1/10\n",
      "92/92 [==============================] - 2s 24ms/step - loss: 0.4275 - accuracy: 0.9595 - val_loss: 0.4309 - val_accuracy: 0.9594\n",
      "Epoch 2/10\n",
      "92/92 [==============================] - 2s 23ms/step - loss: 0.4275 - accuracy: 0.9595 - val_loss: 0.4309 - val_accuracy: 0.9594\n",
      "Epoch 3/10\n",
      "92/92 [==============================] - 2s 24ms/step - loss: 0.4274 - accuracy: 0.9595 - val_loss: 0.4309 - val_accuracy: 0.9594\n",
      "Epoch 4/10\n",
      "92/92 [==============================] - 2s 23ms/step - loss: 0.4273 - accuracy: 0.9595 - val_loss: 0.4309 - val_accuracy: 0.9594\n",
      "Epoch 5/10\n",
      "92/92 [==============================] - 2s 24ms/step - loss: 0.4273 - accuracy: 0.9595 - val_loss: 0.4309 - val_accuracy: 0.9594\n",
      "Epoch 6/10\n",
      "92/92 [==============================] - 2s 24ms/step - loss: 0.4272 - accuracy: 0.9595 - val_loss: 0.4309 - val_accuracy: 0.9594\n",
      "Epoch 7/10\n",
      "92/92 [==============================] - 2s 23ms/step - loss: 0.4272 - accuracy: 0.9595 - val_loss: 0.4309 - val_accuracy: 0.9594\n",
      "Epoch 8/10\n",
      "92/92 [==============================] - 2s 24ms/step - loss: 0.4271 - accuracy: 0.9595 - val_loss: 0.4309 - val_accuracy: 0.9594\n",
      "Epoch 9/10\n",
      "92/92 [==============================] - 2s 24ms/step - loss: 0.4270 - accuracy: 0.9595 - val_loss: 0.4309 - val_accuracy: 0.9594\n",
      "Epoch 10/10\n",
      "92/92 [==============================] - 2s 23ms/step - loss: 0.4270 - accuracy: 0.9595 - val_loss: 0.4309 - val_accuracy: 0.9594\n"
     ]
    },
    {
     "data": {
      "text/plain": [
       "<tensorflow.python.keras.callbacks.History at 0x7fa5aec3c9e8>"
      ]
     },
     "execution_count": 34,
     "metadata": {},
     "output_type": "execute_result"
    }
   ],
   "source": [
    "model.fit([X1_train,X2_train], Y_train, epochs=10, batch_size=51200, validation_data=([X1_test, X2_test], Y_test))\n",
    "          #validation_split=0.1)"
   ]
  },
  {
   "cell_type": "code",
   "execution_count": 24,
   "metadata": {},
   "outputs": [],
   "source": [
    "from sklearn import metrics"
   ]
  },
  {
   "cell_type": "code",
   "execution_count": 25,
   "metadata": {},
   "outputs": [],
   "source": [
    "y_pred = model.predict([X1_test, X2_test])"
   ]
  },
  {
   "cell_type": "code",
   "execution_count": 28,
   "metadata": {},
   "outputs": [],
   "source": [
    "y_pred = np.squeeze(y_pred)"
   ]
  },
  {
   "cell_type": "code",
   "execution_count": 29,
   "metadata": {},
   "outputs": [],
   "source": [
    "fpr, tpr, thresholds = metrics.roc_curve(Y_test, y_pred)"
   ]
  },
  {
   "cell_type": "code",
   "execution_count": 31,
   "metadata": {},
   "outputs": [
    {
     "data": {
      "text/plain": [
       "0.49974843095975247"
      ]
     },
     "execution_count": 31,
     "metadata": {},
     "output_type": "execute_result"
    }
   ],
   "source": [
    "metrics.auc(fpr, tpr)"
   ]
  },
  {
   "cell_type": "code",
   "execution_count": 32,
   "metadata": {},
   "outputs": [],
   "source": [
    "from matplotlib import pyplot as plt\n",
    "%matplotlib inline"
   ]
  },
  {
   "cell_type": "code",
   "execution_count": 33,
   "metadata": {},
   "outputs": [
    {
     "data": {
      "image/png": "[encoded data removed]",
      "text/plain": [
       "<Figure size 432x288 with 1 Axes>"
      ]
     },
     "metadata": {
      "needs_background": "light"
     },
     "output_type": "display_data"
    }
   ],
   "source": [
    "fig, ax = plt.subplots()\n",
    "ax.plot(fpr, tpr, color='b', lw=2)\n",
    "plt.show()"
   ]
  },
  {
   "cell_type": "code",
   "execution_count": null,
   "metadata": {},
   "outputs": [],
   "source": []
  }
 ],
 "metadata": {
  "kernelspec": {
   "display_name": "Python 3",
   "language": "python",
   "name": "python3"
  },
  "language_info": {
   "codemirror_mode": {
    "name": "ipython",
    "version": 3
   },
   "file_extension": ".py",
   "mimetype": "text/x-python",
   "name": "python",
   "nbconvert_exporter": "python",
   "pygments_lexer": "ipython3",
   "version": "3.6.9"
  }
 },
 "nbformat": 4,
 "nbformat_minor": 4
}
